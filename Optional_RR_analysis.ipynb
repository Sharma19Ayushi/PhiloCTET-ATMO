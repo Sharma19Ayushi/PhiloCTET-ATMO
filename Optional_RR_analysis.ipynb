{
 "cells": [
  {
   "cell_type": "code",
   "execution_count": null,
   "id": "initial_id",
   "metadata": {
    "collapsed": true
   },
   "outputs": [],
   "source": [
    "# Import necessary libraries\n",
    "import os\n",
    "import geopandas as gpd\n",
    "import pandas as pd\n",
    "\n",
    "# Define scenarios, pollutants, and years\n",
    "scenarios = [\"s1\", \"s2\", \"s3\", \"s4\"]\n",
    "pollutants = [\n",
    "    \"ug_PM25_Chen\", \"ug_NO2_Huang\",\n",
    "    \"ug_PM25_Chen_high\", \"ug_PM25_Chen_low\",\n",
    "    \"ug_NO2_Huang_low\", \"ug_NO2_Huang_high\"\n",
    "]\n",
    "years = [\"2030\", \"2050\"]\n",
    "\n",
    "# Read and merge shapefiles\n",
    "path_fichier_shp_1, path_fichier_shp_2, path_fichier_shp_3 = \"path1\", \"path2\", \"path3\"\n",
    "title_shp_1, title_shp_2, title_shp_3 = \"title1\", \"title2\", \"title3\"\n",
    "\n",
    "donnees_shp_1 = gpd.read_file(os.path.join(path_fichier_shp_1, f\"{title_shp_1}.shp\"))\n",
    "donnees_shp_2 = gpd.read_file(os.path.join(path_fichier_shp_2, f\"{title_shp_2}.shp\"))\n",
    "donnees_shp_3 = gpd.read_file(os.path.join(path_fichier_shp_3, f\"{title_shp_3}.shp\"))\n",
    "\n",
    "donnees_merged = pd.concat([donnees_shp_1, donnees_shp_2, donnees_shp_3], ignore_index=True)\n",
    "\n",
    "# Loop through scenarios, years, and pollutants\n",
    "for sc in scenarios:\n",
    "    for year in years:\n",
    "        for pol in pollutants:\n",
    "            pol_new = \"ug_PM25_RH50\" if \"PM25\" in pol else \"ug_NO2\"\n",
    "\n",
    "            path_fichier_expo_init = f\"data/2-output-data/{sc}/{pol_new}/{year}/expo-shp\"\n",
    "            path_fichier_expo = f\"data/2-output-data/{sc}/{pol}/{year}/expo-shp\"\n",
    "            title_expo = \"expo-shp\"\n",
    "            path_fichier_mixte = f\"data/2-output-data/{sc}/{pol}/{year}/mixte-shp\"\n",
    "            title_mixte = \"mixte-shp\"\n",
    "            path = f\"data/2-output-data/{sc}/{pol}/{year}\"\n",
    "\n",
    "            # Reading exposure shapefile\n",
    "            donnees_expo = gpd.read_file(os.path.join(path_fichier_expo_init, f\"{title_expo}.shp\"))\n",
    "\n",
    "            # Optional exports (uncomment if implementing)\n",
    "            # export_data_shp(donnees_expo, path_fichier_expo, title_expo)\n",
    "            # donnees_mixtes = mortalite_evitee_iris2(donnees_expo, pol, year)\n",
    "            # export_data_shp(donnees_mixtes, path_fichier_mixte, title_mixte)\n",
    "\n",
    "            # Generating mortality and life expectancy data\n",
    "            tab = mortalite_age2(donnees_merged, donnees_expo, year, pol)\n",
    "            csv_path = os.path.join(path, \"mortalite_evitee.csv\")\n",
    "            tab.to_csv(csv_path, index=False)\n",
    "\n",
    "            res = life_exp(tab, year)\n",
    "            csv_path2 = os.path.join(path, \"esp_vie.csv\")\n",
    "            res.to_csv(csv_path2, index=False)\n"
   ]
  }
 ],
 "metadata": {
  "kernelspec": {
   "display_name": "Python 3",
   "language": "python",
   "name": "python3"
  },
  "language_info": {
   "codemirror_mode": {
    "name": "ipython",
    "version": 2
   },
   "file_extension": ".py",
   "mimetype": "text/x-python",
   "name": "python",
   "nbconvert_exporter": "python",
   "pygments_lexer": "ipython2",
   "version": "2.7.6"
  }
 },
 "nbformat": 4,
 "nbformat_minor": 5
}
