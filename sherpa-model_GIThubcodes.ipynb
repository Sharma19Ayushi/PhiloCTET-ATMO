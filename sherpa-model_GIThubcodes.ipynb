{
 "cells": [
  {
   "cell_type": "markdown",
   "id": "3d925973-f443-4c8a-8af6-90ee4180e8b9",
   "metadata": {},
   "source": [
    "# SHERPA module 1: Scenarios"
   ]
  },
  {
   "cell_type": "code",
   "id": "0a6c24ba-abc9-417b-a642-240d9addfae9",
   "metadata": {
    "ExecuteTime": {
     "end_time": "2025-04-08T13:38:19.073901Z",
     "start_time": "2025-04-08T13:38:19.067800Z"
    }
   },
   "source": [
    "import pkg_resources\n",
    "\n",
    "installed_packages = {pkg.key for pkg in pkg_resources.working_set}\n",
    "print(installed_packages)\n"
   ],
   "outputs": [
    {
     "name": "stdout",
     "output_type": "stream",
     "text": [
      "{'gitpython', 'anaconda-navigator', 'zict', 'pynacl', 'tldextract', 'jupyter-server-terminals', 'protego', 'pydeck', 'types-pytz', 'executing', 'types-geopandas', 'aiohappyeyeballs', 'itsdangerous', 'comm', 'typer', 'babel', 'semantic-link-sempy', 'fastjsonschema', 'shapely', 'webcolors', 'contextily', 'streamlit', 'threadpoolctl', 'pyqt5-sip', 'mypy-extensions', 'nltk', 'jinja2', 'kiwisolver', 'tifffile', 'mako', 'semantic-link-functions-geopandas', 'hyperlink', 'jupyter-server', 'libarchive-c', 'toml', 'scikit-learn', 'pydocstyle', 'pycosat', 'isort', 'anaconda-anon-usage', 'cloudpickle', 'tables', 'pyjwt', 'python-slugify', 'mdurl', 'branca', 'pygments', 'param', 'sqlalchemy', 'colorcet', 'pydispatcher', 'openpyxl', 'ptyprocess', 'aext-share-notebook', 'jaraco.text', 'mkl-service', 'terminado', 'black', 'platformdirs', 'mapclassify', 'more-itertools', 'matplotlib', 'jaraco.collections', 'jmespath', 'joypy', 'ipykernel', 'aext-core-server', 'jedi', 'heapdict', 'libmambapy', 'rtree', 'xyzservices', 'jaraco.functools', 'six', 'geopy', 'msgpack', 'botocore', 'decorator', 'docutils', 'locket', 'markupsafe', 'shellingham', 'rope', 'soupsieve', 'pyzmq', 'cftime', 'sphinxcontrib-applehelp', 'geopandas-postgis', 'pyasn1-modules', 'psycopg2', 'uri-template', 'python-dateutil', 'idna', 'py-cpuinfo', 'jsonpatch', 'pandas-stubs', 'sip', 'mpmath', 'contourpy', 'mkl-random', 'pyls-spyder', 'imagesize', 'jupyter-events', 'jsonschema-specifications', 'markdown', 'autopep8', 'sortedcontainers', 'imageio', 'mkl-fft', 'notebook-shim', 'qstylizer', 'jupyter', 'arrow', 'dask-expr', 'altair', 'tomlkit', 'pillow', 'anyio', 'h5py', 'intake-geopandas', 'plotnine', 'click-plugins', 'ujson', 'service-identity', 'paramiko', 'pywin32', 'pyopenssl', 'matplotlib-inline', 'httpcore', 'conda-package-handling', 'backports.tarfile', 'nbconvert', 'dask', 'sniffio', 'sphinxcontrib-htmlhelp', 'qtpy', 'sphinxcontrib-devhelp', 'pythonnet', 'conda', 'pytoolconfig', 'uc-micro-py', 'attrs', 'anaconda-client', 'multipledispatch', 'psutil', 'urllib3', 'jaraco.classes', 'conda-repo-cli', 'mccabe', 'pyshp', 'rpds-py', 'jsonschema', 'conda-libmamba-solver', 'astroid', 'graphviz', 'pyerfa', 'frozendict', 'json5', 'prometheus-client', 'imagecodecs', 'python-dotenv', 'widgetsnbextension', 'sphinxcontrib-jsmath', 'semver', 'jsonpointer', 'scikit-image', 'send2trash', 'conda-build', 'parso', 'python-lsp-black', 'pyodbc', 'keyring', 'pyct', 'nbclient', 'rasterio', 'itemloaders', 'qtconsole', 'pyarrow', 'cookiecutter', 'rfc3339-validator', 's3fs', 'jellyfish', 'brotli', 'colorama', 'ruamel-yaml-conda', 'truststore', 'conda-index', 'jupyterlab-server', 'ipywidgets', 'isoduration', 'numpy', 'jupyter-console', 'astropy', 'beautifulsoup4', 'pywinpty', 'lz4', 'qdarkstyle', 'aext-assistant', 'pandocfilters', 'requests-toolbelt', 'pydantic-settings', 'pyogrio', 'jupyterlab-widgets', 'pyparsing', 'anaconda-cloud-auth', 'pluggy', 'lazy-loader', 'tenacity', 'sphinxcontrib-serializinghtml', 'aext-share-notebook-server', 'cycler', 'geographiclib', 'aext-core', 'netcdf4', 'holoviews', 'cachetools', 'navigator-updater', 'docstring-to-markdown', 'zope.interface', 'aiosignal', 'boltons', 'folium', 'patsy', 'xlwings', 'readchar', 'pyflakes', 'smart-open', 'typeguard', 'autocommand', 'toolz', 'archspec', 'distro', 'inflect', 'pip', 'lazy-object-proxy', 'pydantic', 'diff-match-patch', 'python-json-logger', 'werkzeug', 'aext-toolbox', 'frozenlist', 'pkce', 'defusedxml', 'datashader', 'protobuf', 'webencodings', 'ipython', 'regex', 'affine', 'typing-extensions', 'automat', 'requests', 'mizani', 'jaraco.context', 'aext-project-filebrowser-server', 'tqdm', 'fiona', 'greenlet', 'tomli', 'scipy', 'ipython-genutils', 'pylint', 'twisted', 'conda-content-trust', 'pydantic-core', 'appdirs', 'prompt-toolkit', 'sentry-sdk', 'pywin32-ctypes', 'anaconda-project', 'yapf', 'click', 'notebook', 'imbalanced-learn', 'astropy-iers-data', 'pyviz-comms', 'distributed', 'pkginfo', 'linkify-it-py', 'itemadapter', 'python-lsp-jsonrpc', 'spyder', 'spyder-kernels', 'three-merge', 'numexpr', 'traitlets', 'sphinx', 'lckr-jupyterlab-variableinspector', 'wcwidth', 'requests-file', 'llvmlite', 'bokeh', 'pycodestyle', 'conda-pack', 'aiobotocore', 'chardet', 'queuelib', 'htcondor', 'certifi', 'atomicwrites', 'tabulate', 'panel', 'nest-asyncio', 'conda-token', 'gensim', 'zipp', 'lmdb', 'aioitertools', 'inflection', 'h11', 'nbformat', 'jupyterlab-pygments', 'mistune', 'types-shapely', 'jupyterlab', 'sphinxcontrib-qthelp', 'markdown-it-py', 'ruamel.yaml', 'bcrypt', 'xarray', 'importlib-metadata', 'async-lru', 'bottleneck', 'snowballstemmer', 'pywavelets', 'text-unidecode', 'pyqt5', 'cssselect', 'filelock', 'websocket-client', 'flask', 'blinker', 'pycparser', 'statsmodels', 'fonttools', 'rfc3986-validator', 'twisted-iocpsupport', 'cffi', 'cmocean', 'mypy', 'numpydoc', 'intervaltree', 'seaborn', 'unidecode', 'conda-package-streaming', 'incremental', 'intake', 'sympy', 'parsel', 'geoalchemy2', 'aext-panels', 'et-xmlfile', 'stack-data', 'python-lsp-server', 'wrapt', 'cytoolz', 'line-profiler', 'setuptools', 'referencing', 'pexpect', 'wheel', 'aext-panels-server', 'pure-eval', 'lxml', 'scrapy', 'httpx', 'pathspec', 'argon2-cffi-bindings', 'asttokens', 'mercantile', 'tornado', 'argon2-cffi', 'pykrige', 'yarl', 'w3lib', 'packaging', 'menuinst', 'geopandas', 'nb-conda-kernels', 'ply', 'iniconfig', 'gitdb', 'pylint-venv', 'partd', 'aext-assistant-server', 'cligj', 'pytest', 'pyproj', 'importlib-resources', 'aiohttp', 'flake8', 'pycurl', 'dill', 'charset-normalizer', 'cryptography', 'multidict', 'pysocks', 'numba', 'overrides', 'pyasn1', 'jupyter-client', 'gdal', 'pickleshare', 'jupyter-core', 'pyjoyplot', 'pytz', 'rich', 'win-inet-pton', 'fsspec', 'watchdog', 'dask-geopandas', 'alembic', 'constantly', 'networkx', 'hvplot', 'joblib', 'anaconda-catalogs', 'bleach', 'tzdata', 'binaryornot', 'aext-shared', 'debugpy', 'fqdn', 'tinycss2', 'qtawesome', 'anaconda-cli-base', 'textdistance', 'zstandard', 'jupyter-lsp', 'alabaster', 'tblib', 'annotated-types', 'plotly', 'clr-loader', 'mdit-py-plugins', 'pyqtwebengine', 'ruamel.yaml.clib', 'whatthepatch', 'smmap', 'pandas', 'pyyaml', 'unicodedata2'}\n"
     ]
    }
   ],
   "execution_count": 2
  },
  {
   "cell_type": "code",
   "id": "87009e13-2936-4a03-8a23-fba2d32b0162",
   "metadata": {
    "ExecuteTime": {
     "end_time": "2025-04-08T13:38:19.037795Z",
     "start_time": "2025-04-08T13:38:16.692344Z"
    }
   },
   "source": [
    "#import required libraries\n",
    "import xarray as xr\n",
    "import pandas as pd\n",
    "import os\n",
    "import matplotlib.pyplot as plt\n",
    "from module1 import module1"
   ],
   "outputs": [],
   "execution_count": 1
  },
  {
   "cell_type": "markdown",
   "id": "c17f572c-005b-4ac6-91ad-7e9b894be72e",
   "metadata": {},
   "source": [
    "## 1. Loop on percentage reductions (main analysis)"
   ]
  },
  {
   "cell_type": "code",
   "id": "9219b5dd-367c-443e-bf3d-a59e277135a4",
   "metadata": {
    "ExecuteTime": {
     "end_time": "2025-04-08T13:38:24.621212Z",
     "start_time": "2025-04-08T13:38:24.615075Z"
    }
   },
   "source": [
    "#Chosen air quality index: PM2.5, NO2, O3\n",
    "#Chosen pollutant reduction: PM2.5, PM10, COVNM, SO2 and NOx for GNFR3 sector (residential)\n",
    "#Chosen pollutant reduction: PM2.5, PM10, COVNM, SO2 and NOx for GNFR6 sector (road transport)\n",
    "#Chosen pollutant reduction: PM2.5, PM10, COVNM, SO2 and NOx for GNFR7 sector (maritime transport)\n",
    "#Chosen pollutant reduction: PM2.5, PM10, COVNM, SO2 and NOx for GNFR8 sector (aviation)\n",
    "#Chosen pollutant reduction: PM2.5, PM10, COVNM, SO2 and NOx for GNFR9 sector (train)\n",
    "#Chosen pollutant reduction: NH3 for GNFR11 sector (manure)\n",
    "#Chosen pollutant reduction: NH3 for GNFR12 sector (culture)"
   ],
   "outputs": [],
   "execution_count": 3
  },
  {
   "cell_type": "code",
   "id": "6c2011a6-ee3b-46e0-a088-fbf1ef1f7bd5",
   "metadata": {
    "ExecuteTime": {
     "end_time": "2025-04-08T13:38:43.588196Z",
     "start_time": "2025-04-08T13:38:42.178969Z"
    }
   },
   "source": [
    "#4 reduction scenarios\n",
    "sc_input = [\"s1\"] #, \"s2\", \"s3\", \"s4\"\n",
    "yrs_input = [\"2030\"] #years for which you have an emission reduction prediction\n",
    "aqi_input = [\"ug_NO2\", \"ug_PM25_rh50\"]#[\"ppb_O3\", \"ug_NO\", \"ug_NO2\", \"ug_PM10_rh50\", \"ug_PM25_rh50\"] #air quality index \n",
    "\n",
    "#define reduction area\n",
    "path_area_cdf_test = './input/reduction_areas/emiRedOn_01005_France.nc'#London_emepCams_0_100_FLIP.nc'\n",
    "area = xr.open_dataset(path_area_cdf_test)\n",
    "area\n",
    "\n",
    "#load basecase emissions \n",
    "path_emission_cdf_test = './input/BC_emiss/BCemis_emepV4_45_cams61_withCond_01005_2019_SecEmis.nc'\n",
    "emis = xr.open_dataset(path_emission_cdf_test)\n",
    "emis\n",
    "\n",
    "for p in aqi_input:  \n",
    "    \n",
    "    #load basecase concentrations\n",
    "    path_base_conc_cdf_test = f'./input/BC_concs/BCconc_emepV4_45_cams61_withCond_01005_2019_SURF_{p}.nc'\n",
    "    conc = xr.open_dataset(path_base_conc_cdf_test)\n",
    "    #load the SRR model\n",
    "    path_model_cdf_test = f'./input/SRR/SR_SURF_{p}.nc' \n",
    "    srr = xr.open_dataset(path_model_cdf_test)\n",
    "\n",
    "    for s in sc_input:\n",
    "        for y in yrs_input:\n",
    "\n",
    "            #define percentage reductions\n",
    "            path_reduction_txt_test = f'./input/reduction_perc/{s}/reduction_GNFR_{s}_{y}.txt'#user_reduction_GNFR_all.txt'\n",
    "            pd.read_csv(path_reduction_txt_test, sep='\\t')\n",
    "\n",
    "            #define output area and downscaling (not implemented now)\n",
    "            path_result_cdf_test = f'./output/{s}/'\n",
    "            downscale_request = 0 # 0 if you do not need downscale, 1 if you need downscale but only for PM concentrations\n",
    "\n",
    "            #run the model and inspect the results - running time around 1 minute\n",
    "            name_result = \"DCconc_\" + s + \"_\" + y + \"_\"\n",
    "            res = module1(path_emission_cdf_test, path_area_cdf_test, path_reduction_txt_test, path_base_conc_cdf_test, \n",
    "                      path_model_cdf_test, path_result_cdf_test, name_result, downscale_request)\n",
    "    "
   ],
   "outputs": [
    {
     "ename": "FileNotFoundError",
     "evalue": "[Errno 2] No such file or directory: './input/reduction_perc/s1/reduction_GNFR_s1_2016.txt'",
     "output_type": "error",
     "traceback": [
      "\u001B[1;31m---------------------------------------------------------------------------\u001B[0m",
      "\u001B[1;31mFileNotFoundError\u001B[0m                         Traceback (most recent call last)",
      "Cell \u001B[1;32mIn[4], line 30\u001B[0m\n\u001B[0;32m     26\u001B[0m \u001B[38;5;28;01mfor\u001B[39;00m y \u001B[38;5;129;01min\u001B[39;00m yrs_input:\n\u001B[0;32m     27\u001B[0m \n\u001B[0;32m     28\u001B[0m     \u001B[38;5;66;03m#define percentage reductions\u001B[39;00m\n\u001B[0;32m     29\u001B[0m     path_reduction_txt_test \u001B[38;5;241m=\u001B[39m \u001B[38;5;124mf\u001B[39m\u001B[38;5;124m'\u001B[39m\u001B[38;5;124m./input/reduction_perc/\u001B[39m\u001B[38;5;132;01m{\u001B[39;00ms\u001B[38;5;132;01m}\u001B[39;00m\u001B[38;5;124m/reduction_GNFR_\u001B[39m\u001B[38;5;132;01m{\u001B[39;00ms\u001B[38;5;132;01m}\u001B[39;00m\u001B[38;5;124m_\u001B[39m\u001B[38;5;132;01m{\u001B[39;00my\u001B[38;5;132;01m}\u001B[39;00m\u001B[38;5;124m.txt\u001B[39m\u001B[38;5;124m'\u001B[39m\u001B[38;5;66;03m#user_reduction_GNFR_all.txt'\u001B[39;00m\n\u001B[1;32m---> 30\u001B[0m     pd\u001B[38;5;241m.\u001B[39mread_csv(path_reduction_txt_test, sep\u001B[38;5;241m=\u001B[39m\u001B[38;5;124m'\u001B[39m\u001B[38;5;130;01m\\t\u001B[39;00m\u001B[38;5;124m'\u001B[39m)\n\u001B[0;32m     32\u001B[0m     \u001B[38;5;66;03m#define output area and downscaling (not implemented now)\u001B[39;00m\n\u001B[0;32m     33\u001B[0m     path_result_cdf_test \u001B[38;5;241m=\u001B[39m \u001B[38;5;124mf\u001B[39m\u001B[38;5;124m'\u001B[39m\u001B[38;5;124m./output/\u001B[39m\u001B[38;5;132;01m{\u001B[39;00ms\u001B[38;5;132;01m}\u001B[39;00m\u001B[38;5;124m/\u001B[39m\u001B[38;5;124m'\u001B[39m\n",
      "File \u001B[1;32m~\\anaconda3\\Lib\\site-packages\\pandas\\io\\parsers\\readers.py:1026\u001B[0m, in \u001B[0;36mread_csv\u001B[1;34m(filepath_or_buffer, sep, delimiter, header, names, index_col, usecols, dtype, engine, converters, true_values, false_values, skipinitialspace, skiprows, skipfooter, nrows, na_values, keep_default_na, na_filter, verbose, skip_blank_lines, parse_dates, infer_datetime_format, keep_date_col, date_parser, date_format, dayfirst, cache_dates, iterator, chunksize, compression, thousands, decimal, lineterminator, quotechar, quoting, doublequote, escapechar, comment, encoding, encoding_errors, dialect, on_bad_lines, delim_whitespace, low_memory, memory_map, float_precision, storage_options, dtype_backend)\u001B[0m\n\u001B[0;32m   1013\u001B[0m kwds_defaults \u001B[38;5;241m=\u001B[39m _refine_defaults_read(\n\u001B[0;32m   1014\u001B[0m     dialect,\n\u001B[0;32m   1015\u001B[0m     delimiter,\n\u001B[1;32m   (...)\u001B[0m\n\u001B[0;32m   1022\u001B[0m     dtype_backend\u001B[38;5;241m=\u001B[39mdtype_backend,\n\u001B[0;32m   1023\u001B[0m )\n\u001B[0;32m   1024\u001B[0m kwds\u001B[38;5;241m.\u001B[39mupdate(kwds_defaults)\n\u001B[1;32m-> 1026\u001B[0m \u001B[38;5;28;01mreturn\u001B[39;00m _read(filepath_or_buffer, kwds)\n",
      "File \u001B[1;32m~\\anaconda3\\Lib\\site-packages\\pandas\\io\\parsers\\readers.py:620\u001B[0m, in \u001B[0;36m_read\u001B[1;34m(filepath_or_buffer, kwds)\u001B[0m\n\u001B[0;32m    617\u001B[0m _validate_names(kwds\u001B[38;5;241m.\u001B[39mget(\u001B[38;5;124m\"\u001B[39m\u001B[38;5;124mnames\u001B[39m\u001B[38;5;124m\"\u001B[39m, \u001B[38;5;28;01mNone\u001B[39;00m))\n\u001B[0;32m    619\u001B[0m \u001B[38;5;66;03m# Create the parser.\u001B[39;00m\n\u001B[1;32m--> 620\u001B[0m parser \u001B[38;5;241m=\u001B[39m TextFileReader(filepath_or_buffer, \u001B[38;5;241m*\u001B[39m\u001B[38;5;241m*\u001B[39mkwds)\n\u001B[0;32m    622\u001B[0m \u001B[38;5;28;01mif\u001B[39;00m chunksize \u001B[38;5;129;01mor\u001B[39;00m iterator:\n\u001B[0;32m    623\u001B[0m     \u001B[38;5;28;01mreturn\u001B[39;00m parser\n",
      "File \u001B[1;32m~\\anaconda3\\Lib\\site-packages\\pandas\\io\\parsers\\readers.py:1620\u001B[0m, in \u001B[0;36mTextFileReader.__init__\u001B[1;34m(self, f, engine, **kwds)\u001B[0m\n\u001B[0;32m   1617\u001B[0m     \u001B[38;5;28mself\u001B[39m\u001B[38;5;241m.\u001B[39moptions[\u001B[38;5;124m\"\u001B[39m\u001B[38;5;124mhas_index_names\u001B[39m\u001B[38;5;124m\"\u001B[39m] \u001B[38;5;241m=\u001B[39m kwds[\u001B[38;5;124m\"\u001B[39m\u001B[38;5;124mhas_index_names\u001B[39m\u001B[38;5;124m\"\u001B[39m]\n\u001B[0;32m   1619\u001B[0m \u001B[38;5;28mself\u001B[39m\u001B[38;5;241m.\u001B[39mhandles: IOHandles \u001B[38;5;241m|\u001B[39m \u001B[38;5;28;01mNone\u001B[39;00m \u001B[38;5;241m=\u001B[39m \u001B[38;5;28;01mNone\u001B[39;00m\n\u001B[1;32m-> 1620\u001B[0m \u001B[38;5;28mself\u001B[39m\u001B[38;5;241m.\u001B[39m_engine \u001B[38;5;241m=\u001B[39m \u001B[38;5;28mself\u001B[39m\u001B[38;5;241m.\u001B[39m_make_engine(f, \u001B[38;5;28mself\u001B[39m\u001B[38;5;241m.\u001B[39mengine)\n",
      "File \u001B[1;32m~\\anaconda3\\Lib\\site-packages\\pandas\\io\\parsers\\readers.py:1880\u001B[0m, in \u001B[0;36mTextFileReader._make_engine\u001B[1;34m(self, f, engine)\u001B[0m\n\u001B[0;32m   1878\u001B[0m     \u001B[38;5;28;01mif\u001B[39;00m \u001B[38;5;124m\"\u001B[39m\u001B[38;5;124mb\u001B[39m\u001B[38;5;124m\"\u001B[39m \u001B[38;5;129;01mnot\u001B[39;00m \u001B[38;5;129;01min\u001B[39;00m mode:\n\u001B[0;32m   1879\u001B[0m         mode \u001B[38;5;241m+\u001B[39m\u001B[38;5;241m=\u001B[39m \u001B[38;5;124m\"\u001B[39m\u001B[38;5;124mb\u001B[39m\u001B[38;5;124m\"\u001B[39m\n\u001B[1;32m-> 1880\u001B[0m \u001B[38;5;28mself\u001B[39m\u001B[38;5;241m.\u001B[39mhandles \u001B[38;5;241m=\u001B[39m get_handle(\n\u001B[0;32m   1881\u001B[0m     f,\n\u001B[0;32m   1882\u001B[0m     mode,\n\u001B[0;32m   1883\u001B[0m     encoding\u001B[38;5;241m=\u001B[39m\u001B[38;5;28mself\u001B[39m\u001B[38;5;241m.\u001B[39moptions\u001B[38;5;241m.\u001B[39mget(\u001B[38;5;124m\"\u001B[39m\u001B[38;5;124mencoding\u001B[39m\u001B[38;5;124m\"\u001B[39m, \u001B[38;5;28;01mNone\u001B[39;00m),\n\u001B[0;32m   1884\u001B[0m     compression\u001B[38;5;241m=\u001B[39m\u001B[38;5;28mself\u001B[39m\u001B[38;5;241m.\u001B[39moptions\u001B[38;5;241m.\u001B[39mget(\u001B[38;5;124m\"\u001B[39m\u001B[38;5;124mcompression\u001B[39m\u001B[38;5;124m\"\u001B[39m, \u001B[38;5;28;01mNone\u001B[39;00m),\n\u001B[0;32m   1885\u001B[0m     memory_map\u001B[38;5;241m=\u001B[39m\u001B[38;5;28mself\u001B[39m\u001B[38;5;241m.\u001B[39moptions\u001B[38;5;241m.\u001B[39mget(\u001B[38;5;124m\"\u001B[39m\u001B[38;5;124mmemory_map\u001B[39m\u001B[38;5;124m\"\u001B[39m, \u001B[38;5;28;01mFalse\u001B[39;00m),\n\u001B[0;32m   1886\u001B[0m     is_text\u001B[38;5;241m=\u001B[39mis_text,\n\u001B[0;32m   1887\u001B[0m     errors\u001B[38;5;241m=\u001B[39m\u001B[38;5;28mself\u001B[39m\u001B[38;5;241m.\u001B[39moptions\u001B[38;5;241m.\u001B[39mget(\u001B[38;5;124m\"\u001B[39m\u001B[38;5;124mencoding_errors\u001B[39m\u001B[38;5;124m\"\u001B[39m, \u001B[38;5;124m\"\u001B[39m\u001B[38;5;124mstrict\u001B[39m\u001B[38;5;124m\"\u001B[39m),\n\u001B[0;32m   1888\u001B[0m     storage_options\u001B[38;5;241m=\u001B[39m\u001B[38;5;28mself\u001B[39m\u001B[38;5;241m.\u001B[39moptions\u001B[38;5;241m.\u001B[39mget(\u001B[38;5;124m\"\u001B[39m\u001B[38;5;124mstorage_options\u001B[39m\u001B[38;5;124m\"\u001B[39m, \u001B[38;5;28;01mNone\u001B[39;00m),\n\u001B[0;32m   1889\u001B[0m )\n\u001B[0;32m   1890\u001B[0m \u001B[38;5;28;01massert\u001B[39;00m \u001B[38;5;28mself\u001B[39m\u001B[38;5;241m.\u001B[39mhandles \u001B[38;5;129;01mis\u001B[39;00m \u001B[38;5;129;01mnot\u001B[39;00m \u001B[38;5;28;01mNone\u001B[39;00m\n\u001B[0;32m   1891\u001B[0m f \u001B[38;5;241m=\u001B[39m \u001B[38;5;28mself\u001B[39m\u001B[38;5;241m.\u001B[39mhandles\u001B[38;5;241m.\u001B[39mhandle\n",
      "File \u001B[1;32m~\\anaconda3\\Lib\\site-packages\\pandas\\io\\common.py:873\u001B[0m, in \u001B[0;36mget_handle\u001B[1;34m(path_or_buf, mode, encoding, compression, memory_map, is_text, errors, storage_options)\u001B[0m\n\u001B[0;32m    868\u001B[0m \u001B[38;5;28;01melif\u001B[39;00m \u001B[38;5;28misinstance\u001B[39m(handle, \u001B[38;5;28mstr\u001B[39m):\n\u001B[0;32m    869\u001B[0m     \u001B[38;5;66;03m# Check whether the filename is to be opened in binary mode.\u001B[39;00m\n\u001B[0;32m    870\u001B[0m     \u001B[38;5;66;03m# Binary mode does not support 'encoding' and 'newline'.\u001B[39;00m\n\u001B[0;32m    871\u001B[0m     \u001B[38;5;28;01mif\u001B[39;00m ioargs\u001B[38;5;241m.\u001B[39mencoding \u001B[38;5;129;01mand\u001B[39;00m \u001B[38;5;124m\"\u001B[39m\u001B[38;5;124mb\u001B[39m\u001B[38;5;124m\"\u001B[39m \u001B[38;5;129;01mnot\u001B[39;00m \u001B[38;5;129;01min\u001B[39;00m ioargs\u001B[38;5;241m.\u001B[39mmode:\n\u001B[0;32m    872\u001B[0m         \u001B[38;5;66;03m# Encoding\u001B[39;00m\n\u001B[1;32m--> 873\u001B[0m         handle \u001B[38;5;241m=\u001B[39m \u001B[38;5;28mopen\u001B[39m(\n\u001B[0;32m    874\u001B[0m             handle,\n\u001B[0;32m    875\u001B[0m             ioargs\u001B[38;5;241m.\u001B[39mmode,\n\u001B[0;32m    876\u001B[0m             encoding\u001B[38;5;241m=\u001B[39mioargs\u001B[38;5;241m.\u001B[39mencoding,\n\u001B[0;32m    877\u001B[0m             errors\u001B[38;5;241m=\u001B[39merrors,\n\u001B[0;32m    878\u001B[0m             newline\u001B[38;5;241m=\u001B[39m\u001B[38;5;124m\"\u001B[39m\u001B[38;5;124m\"\u001B[39m,\n\u001B[0;32m    879\u001B[0m         )\n\u001B[0;32m    880\u001B[0m     \u001B[38;5;28;01melse\u001B[39;00m:\n\u001B[0;32m    881\u001B[0m         \u001B[38;5;66;03m# Binary mode\u001B[39;00m\n\u001B[0;32m    882\u001B[0m         handle \u001B[38;5;241m=\u001B[39m \u001B[38;5;28mopen\u001B[39m(handle, ioargs\u001B[38;5;241m.\u001B[39mmode)\n",
      "\u001B[1;31mFileNotFoundError\u001B[0m: [Errno 2] No such file or directory: './input/reduction_perc/s1/reduction_GNFR_s1_2016.txt'"
     ]
    }
   ],
   "execution_count": 4
  },
  {
   "cell_type": "markdown",
   "id": "f7283529-469c-4320-af45-61bd6160bef7",
   "metadata": {},
   "source": [
    "## 2. Loop on three sectors: AGRI (agricultural), RES (residential) and TRANS (transport)"
   ]
  },
  {
   "cell_type": "code",
   "id": "41ce4f41-8dd3-4d0e-9ba7-1ae60c2fa5ba",
   "metadata": {
    "ExecuteTime": {
     "end_time": "2025-04-03T12:43:22.738943Z",
     "start_time": "2025-04-03T12:33:53.438471Z"
    }
   },
   "source": [
    "#4 reduction scenarios\n",
    "sc_input = [\"s1\", \"s2\", \"s3\", \"s4\"]\n",
    "yrs_input = [\"2030\"] #years for which you have an emission reduction prediction\n",
    "aqi_input = [\"ug_NO2\", \"ug_PM25_rh50\"]#[\"ppb_O3\", \"ug_NO\", \"ug_NO2\", \"ug_PM10_rh50\", \"ug_PM25_rh50\"] #air quality index \n",
    "gnfr_input = [\"res\", \"trans\", \"agri\"]\n",
    "\n",
    "#define reduction area\n",
    "path_area_cdf_test = './input/reduction_areas/emiRedOn_01005_France.nc'#London_emepCams_0_100_FLIP.nc'\n",
    "area = xr.open_dataset(path_area_cdf_test)\n",
    "area\n",
    "\n",
    "#load basecase emissions \n",
    "path_emission_cdf_test = './input/BC_emiss/BCemis_emepV4_45_cams61_withCond_01005_2019_SecEmis.nc'\n",
    "emis = xr.open_dataset(path_emission_cdf_test)\n",
    "emis\n",
    "\n",
    "for p in aqi_input:  \n",
    "    \n",
    "    #load basecase concentrations\n",
    "    path_base_conc_cdf_test = f'./input/BC_concs/BCconc_emepV4_45_cams61_withCond_01005_2019_SURF_{p}.nc'\n",
    "    conc = xr.open_dataset(path_base_conc_cdf_test)\n",
    "    #load the SRR model\n",
    "    path_model_cdf_test = f'./input/SRR/SR_SURF_{p}.nc' \n",
    "    srr = xr.open_dataset(path_model_cdf_test)\n",
    "\n",
    "    for s in sc_input:\n",
    "        for y in yrs_input:\n",
    "            for gnfr in gnfr_input:\n",
    "\n",
    "                #define percentage reductions\n",
    "                path_reduction_txt_test = f'./input/reduction_perc/{s}/reduction_GNFR_{s}_{y}_{gnfr}.txt'#user_reduction_GNFR_all.txt'\n",
    "                pd.read_csv(path_reduction_txt_test, sep='\\t')\n",
    "\n",
    "                #define output area and downscaling (not implemented now)\n",
    "                path_result_cdf_test = f'./output/{s}/'\n",
    "                downscale_request = 0 # 0 if you do not need downscale, 1 if you need downscale but only for PM concentrations\n",
    "\n",
    "                #run the model and inspect the results - running time around 1 minute\n",
    "                name_result = \"DCconc_\" + s + \"_\" + y + \"_\" + gnfr + \"_\"\n",
    "                res = module1(path_emission_cdf_test, path_area_cdf_test, path_reduction_txt_test, path_base_conc_cdf_test, \n",
    "                      path_model_cdf_test, path_result_cdf_test, name_result, downscale_request)\n",
    "    "
   ],
   "outputs": [
    {
     "name": "stdout",
     "output_type": "stream",
     "text": [
      "\rrogress:6.274008progress:13.444302progress:19.590269progress:24.327785progress:29.321383progress:34.827145progress:41.613316progress:47.503201progress:52.240717progress:59.539052progress:67.349552progress:74.775928progress:82.586428progress:89.372599progress:98.975672progress:6.914213progress:16.517286progress:24.199744progress:32.010243progress:38.412292progress:43.918054progress:48.655570progress:55.057618progress:63.124200progress:69.910371progress:80.025608progress:88.220230progress:95.134443progress:8.066581progress:15.877081progress:22.535211progress:32.394366progress:39.948784progress:45.326504progress:49.935980progress:55.441741progress:63.380282progress:71.318822progress:78.233035progress:86.427657progress:92.957746progress:7.426376progress:13.828425progress:20.358515progress:26.760563progress:32.906530progress:38.540333progress:47.247119progress:55.953905progress:67.605634progress:78.873239progress:91.293214progress:12.932138progress:24.199744progress:34.955186progress:43.918054progress:52.752881progress:63.636364progress:75.416133progress:87.451985progress:12.932138progress:24.327785progress:35.211268progress:44.174136progress:53.008963progress:63.892446progress:75.672215progress:87.580026progress:13.060179progress:24.455826progress:35.339309progress:44.174136progress:53.137004progress:64.148528progress:75.928297progress:88.092190progress:12.932138progress:24.199744progress:34.955186progress:43.918054progress:52.752881progress:63.508323progress:75.160051progress:87.067862progress:12.932138progress:24.327785progress:35.211268progress:44.046095progress:52.880922progress:63.636364progress:75.416133progress:87.067862progress:12.932138progress:24.327785progress:35.211268progress:44.046095progress:53.008963progress:63.764405progress:75.544174progress:87.708067progress:12.932138progress:24.199744progress:35.083227progress:43.918054progress:52.752881progress:63.508323progress:75.288092progress:87.195903progress:12.804097progress:24.199744progress:35.083227progress:44.046095progress:52.880922progress:63.636364progress:75.416133progress:87.451985progress:3.072983progress:6.914213progress:11.395647progress:14.724712progress:17.925736progress:20.742638progress:23.431498progress:26.376440progress:29.193342progress:32.010243progress:34.443022progress:36.619718progress:38.668374progress:40.588988progress:42.637644progress:44.814341progress:46.991037progress:49.039693progress:50.960307progress:52.880922progress:55.057618progress:57.618438progress:60.819462progress:63.764405progress:67.093470progress:70.166453progress:73.111396progress:75.928297progress:78.745198progress:81.818182progress:85.275288progress:88.604353progress:91.933419progress:95.902689progress:3.072983progress:6.914213progress:11.395647progress:14.724712progress:17.925736progress:20.742638progress:23.431498progress:26.248399progress:29.065301progress:31.882202progress:34.314981progress:36.619718progress:38.668374progress:40.588988progress:42.637644progress:44.814341progress:46.991037progress:49.039693progress:50.960307progress:52.880922progress:55.057618progress:57.746479progress:60.947503progress:64.020487progress:67.349552progress:70.422535progress:73.367478progress:76.184379progress:79.001280progress:82.074264progress:85.531370progress:88.860435progress:92.317542progress:96.670935progress:2.944942progress:6.658131progress:11.139565progress:14.596671progress:17.797695progress:20.742638progress:23.431498progress:26.376440progress:29.193342progress:32.010243progress:34.443022progress:36.619718progress:38.668374progress:40.717029progress:42.637644progress:44.686300progress:46.862996progress:48.911652progress:50.832266progress:52.880922progress:55.057618progress:57.746479progress:60.819462progress:63.764405progress:66.965429progress:70.038412progress:73.111396progress:75.928297progress:78.745198progress:81.818182progress:85.275288progress:88.604353progress:92.061460progress:96.030730progress:3.072983progress:6.914213progress:11.395647progress:14.724712progress:17.925736progress:20.742638progress:23.303457progress:26.248399progress:29.065301progress:31.882202progress:34.314981progress:36.619718progress:38.668374progress:40.717029progress:42.765685progress:44.942382progress:47.119078progress:49.167734progress:51.088348progress:53.008963progress:55.185659progress:57.874520progress:60.947503progress:63.892446progress:67.093470progress:70.166453progress:73.111396progress:75.928297progress:78.745198progress:81.818182progress:85.275288progress:88.604353progress:92.061460progress:96.158771progress:3.072983progress:6.914213progress:11.395647progress:14.724712progress:17.925736progress:20.870679progress:23.559539progress:26.504481progress:29.449424progress:32.266325progress:34.699104progress:37.003841progress:39.052497progress:41.101152progress:43.149808progress:45.326504progress:47.503201progress:49.551857progress:51.472471progress:53.393086progress:55.569782progress:58.386684progress:61.587708progress:64.532650progress:67.861716progress:70.934699progress:73.751601progress:76.568502progress:79.385403progress:82.586428progress:86.043534progress:89.372599progress:92.829706progress:97.823303progress:3.072983progress:6.914213progress:11.267606progress:14.596671progress:17.669654progress:20.486556progress:23.175416progress:26.120359progress:28.937260progress:31.754161progress:34.186940progress:36.491677progress:38.540333progress:40.588988progress:42.637644progress:44.814341progress:46.991037progress:49.039693progress:50.960307progress:53.008963progress:55.185659progress:57.874520progress:61.075544progress:64.020487progress:67.349552progress:70.422535progress:73.367478progress:76.184379progress:79.001280progress:82.074264progress:85.531370progress:88.860435progress:92.317542progress:96.670935progress:3.072983progress:6.914213progress:11.395647progress:14.724712progress:17.925736progress:20.742638progress:23.431498progress:26.376440progress:29.321383progress:32.138284progress:34.571063progress:36.875800progress:38.924456progress:40.973111progress:43.021767progress:45.198464progress:47.375160progress:49.423816progress:51.344430progress:53.393086progress:55.697823progress:58.642766progress:61.843790progress:64.916773progress:68.117798progress:71.318822progress:74.135723progress:76.952625progress:79.897567progress:83.226633progress:86.811780progress:90.268886progress:93.854033progress:3.072983progress:6.914213progress:11.267606progress:14.596671progress:17.797695progress:20.742638progress:23.431498progress:26.376440progress:29.193342progress:32.010243progress:34.443022progress:36.747759progress:38.796415progress:40.845070progress:42.893726progress:45.070423progress:47.247119progress:49.295775progress:51.216389progress:53.265045progress:55.441741progress:58.258643progress:61.459667progress:64.532650progress:67.861716progress:71.062740progress:73.879641progress:76.696543progress:79.641485progress:82.842510progress:86.299616progress:89.628681progress:93.085787progress:98.719590progress:3.072983progress:6.914213progress:11.395647progress:14.724712progress:17.925736progress:20.742638progress:23.303457progress:26.248399progress:29.193342progress:32.010243progress:34.443022progress:36.747759progress:38.924456progress:40.973111progress:43.021767progress:45.198464progress:47.375160progress:49.423816progress:51.344430progress:53.393086progress:55.697823progress:58.514725progress:61.715749progress:64.788732progress:68.117798progress:71.318822progress:74.263764progress:77.080666progress:80.025608progress:83.354673progress:86.939821progress:90.396927progress:93.982074progress:3.072983progress:6.786172progress:11.267606progress:14.724712progress:17.925736progress:20.870679progress:23.559539progress:26.504481progress:29.449424progress:32.266325progress:34.699104progress:37.003841progress:39.052497progress:41.101152progress:43.149808progress:45.326504progress:47.503201progress:49.551857progress:51.472471progress:53.521127progress:55.825864progress:58.770807progress:61.971831progress:65.044814progress:68.245839progress:71.446863progress:74.263764progress:77.080666progress:80.025608progress:83.354673progress:86.811780progress:90.268886progress:93.854033progress:3.072983progress:6.914213progress:11.395647progress:14.724712progress:17.925736progress:20.742638progress:23.431498progress:26.376440progress:29.193342progress:32.010243progress:34.443022progress:36.747759progress:38.796415progress:40.845070progress:42.893726progress:45.070423progress:47.247119progress:49.295775progress:51.216389progress:53.265045progress:55.441741progress:58.258643progress:61.459667progress:64.532650progress:67.861716progress:70.934699progress:73.751601progress:76.568502progress:79.513444progress:82.714469progress:86.171575progress:89.628681progress:93.085787progress:98.719590progress:3.072983progress:6.914213progress:11.395647progress:14.724712progress:17.797695progress:20.614597progress:23.303457progress:26.248399progress:29.065301progress:31.882202progress:34.314981progress:36.619718progress:38.668374progress:40.717029progress:42.765685progress:44.942382progress:47.119078progress:49.167734progress:51.088348progress:53.137004progress:55.313700progress:58.130602progress:61.331626progress:64.404609progress:67.733675progress:70.934699progress:73.751601progress:76.568502progress:79.385403progress:82.586428progress:86.043534progress:89.500640progress:92.957746progress:98.207426\r"
     ]
    }
   ],
   "execution_count": 8
  },
  {
   "cell_type": "markdown",
   "id": "1bd3eb30-524a-445c-a5fc-ba8f23d2d2c3",
   "metadata": {},
   "source": [
    "## 3. Sensibility analysis: without industry"
   ]
  },
  {
   "cell_type": "code",
   "id": "2d322535-9e1b-4dcc-bf11-9e4075f651fc",
   "metadata": {
    "ExecuteTime": {
     "end_time": "2025-04-03T12:47:06.090309Z",
     "start_time": "2025-04-03T12:44:04.539440Z"
    }
   },
   "source": [
    "#to do the same sensibility analysis for condensates and plaisance, you just have to change de the number \"2\" by \"_pl\" or \"_cond\" \n",
    "#in path_reduction_txt_test and in name_result\n",
    "\n",
    "\n",
    "#4 reduction scenarios\n",
    "sc_input = [\"s1\", \"s2\", \"s3\", \"s4\"]\n",
    "yrs_input = [\"2030\"] #years for which you have an emission reduction prediction\n",
    "aqi_input = [\"ug_NO2\", \"ug_PM25_rh50\"]#[\"ppb_O3\", \"ug_NO\", \"ug_NO2\", \"ug_PM10_rh50\", \"ug_PM25_rh50\"] #air quality index \n",
    "\n",
    "#define reduction area\n",
    "path_area_cdf_test = './input/reduction_areas/emiRedOn_01005_France.nc'#London_emepCams_0_100_FLIP.nc'\n",
    "area = xr.open_dataset(path_area_cdf_test)\n",
    "area\n",
    "\n",
    "#load basecase emissions \n",
    "path_emission_cdf_test = './input/BC_emiss/BCemis_emepV4_45_cams61_withCond_01005_2019_SecEmis.nc'\n",
    "emis = xr.open_dataset(path_emission_cdf_test)\n",
    "emis\n",
    "\n",
    "for p in aqi_input:  \n",
    "    \n",
    "    #load basecase concentrations\n",
    "    path_base_conc_cdf_test = f'./input/BC_concs/BCconc_emepV4_45_cams61_withCond_01005_2019_SURF_{p}.nc'\n",
    "    conc = xr.open_dataset(path_base_conc_cdf_test)\n",
    "    #load the SRR model\n",
    "    path_model_cdf_test = f'./input/SRR/SR_SURF_{p}.nc' \n",
    "    srr = xr.open_dataset(path_model_cdf_test)\n",
    "\n",
    "    for s in sc_input:\n",
    "        for y in yrs_input:\n",
    "\n",
    "            #define percentage reductions\n",
    "            path_reduction_txt_test = f'./input/reduction_perc/{s}/reduction_GNFR2_{s}_{y}.txt'#user_reduction_GNFR_all.txt'\n",
    "            pd.read_csv(path_reduction_txt_test, sep='\\t')\n",
    "\n",
    "            #define output area and downscaling (not implemented now)\n",
    "            path_result_cdf_test = f'./output/{s}/'\n",
    "            downscale_request = 0 # 0 if you do not need downscale, 1 if you need downscale but only for PM concentrations\n",
    "\n",
    "            #run the model and inspect the results - running time around 1 minute\n",
    "            name_result = \"DCconc_2_\" + s + \"_\" + y + \"_\"\n",
    "            res = module1(path_emission_cdf_test, path_area_cdf_test, path_reduction_txt_test, path_base_conc_cdf_test, \n",
    "                      path_model_cdf_test, path_result_cdf_test, name_result, downscale_request)\n",
    "    "
   ],
   "outputs": [
    {
     "name": "stdout",
     "output_type": "stream",
     "text": [
      "\rrogress:13.316261progress:24.967990progress:35.979513progress:44.558259progress:53.649168progress:65.300896progress:77.464789progress:90.268886progress:13.444302progress:25.224072progress:36.363636progress:45.710627progress:54.929577progress:66.837388progress:78.745198progress:91.549296progress:13.060179progress:24.327785progress:35.083227progress:44.046095progress:52.880922progress:63.636364progress:75.416133progress:87.580026progress:12.932138progress:24.327785progress:35.211268progress:44.174136progress:53.008963progress:63.892446progress:75.672215progress:87.836108progress:3.072983progress:6.914213progress:11.267606progress:14.596671progress:17.797695progress:20.614597progress:23.303457progress:26.248399progress:29.065301progress:31.882202progress:34.314981progress:36.491677progress:38.540333progress:40.588988progress:42.637644progress:44.814341progress:46.991037progress:49.039693progress:50.960307progress:53.008963progress:55.185659progress:57.874520progress:61.075544progress:64.148528progress:67.477593progress:70.678617progress:73.623560progress:76.440461progress:79.385403progress:82.586428progress:86.043534progress:89.500640progress:92.957746progress:98.335467progress:3.201024progress:7.170294progress:11.651729progress:14.980794progress:18.181818progress:20.998720progress:23.559539progress:26.504481progress:29.449424progress:32.266325progress:34.699104progress:36.875800progress:38.924456progress:40.973111progress:43.021767progress:45.198464progress:47.375160progress:49.423816progress:51.344430progress:53.393086progress:55.697823progress:58.642766progress:61.715749progress:64.788732progress:68.117798progress:71.318822progress:74.135723progress:76.952625progress:79.769526progress:82.970551progress:86.555698progress:89.884763progress:93.341869progress:3.072983progress:6.914213progress:11.395647progress:14.724712progress:17.797695progress:20.614597progress:23.303457progress:26.120359progress:28.937260progress:31.754161progress:34.186940progress:36.491677progress:38.540333progress:40.588988progress:42.637644progress:44.814341progress:46.991037progress:49.039693progress:50.960307progress:52.880922progress:55.057618progress:57.746479progress:60.947503progress:63.892446progress:67.093470progress:70.166453progress:73.111396progress:75.928297progress:78.745198progress:81.818182progress:85.275288progress:88.604353progress:92.061460progress:96.414853progress:3.072983progress:6.914213progress:11.395647progress:14.724712progress:17.925736progress:20.870679progress:23.559539progress:26.504481progress:29.449424progress:32.266325progress:34.699104progress:36.875800progress:38.924456progress:40.973111progress:43.021767progress:45.198464progress:47.375160progress:49.423816progress:51.344430progress:53.393086progress:55.697823progress:58.642766progress:61.715749progress:64.788732progress:67.989757progress:71.190781progress:74.135723progress:76.952625progress:79.897567progress:83.226633progress:86.683739progress:90.140845progress:93.725992\r"
     ]
    }
   ],
   "execution_count": 9
  },
  {
   "cell_type": "markdown",
   "id": "2bac6c6d-59e9-42be-a301-f0a5a696fed7",
   "metadata": {},
   "source": [
    "## 4. Sensibility analysis: without frontiers (all EU)"
   ]
  },
  {
   "cell_type": "code",
   "id": "2c3fa01a-f6f9-4ad8-be88-3d2285594169",
   "metadata": {
    "ExecuteTime": {
     "end_time": "2025-04-03T12:51:17.492314Z",
     "start_time": "2025-04-03T12:47:21.768999Z"
    }
   },
   "source": [
    "\n",
    "#4 reduction scenarios\n",
    "sc_input = [\"s1\", \"s2\", \"s3\", \"s4\"]\n",
    "yrs_input = [\"2030\"] #years for which you have an emission reduction prediction\n",
    "aqi_input = [\"ug_NO2\", \"ug_PM25_rh50\"]#[\"ppb_O3\", \"ug_NO\", \"ug_NO2\", \"ug_PM10_rh50\", \"ug_PM25_rh50\"] #air quality index \n",
    "\n",
    "#define reduction area\n",
    "path_area_cdf_test = './input/reduction_areas/emiRedOn_01005_EU.nc'#London_emepCams_0_100_FLIP.nc'\n",
    "area = xr.open_dataset(path_area_cdf_test)\n",
    "area\n",
    "\n",
    "#load basecase emissions \n",
    "path_emission_cdf_test = './input/BC_emiss/BCemis_emepV4_45_cams61_withCond_01005_2019_SecEmis.nc'\n",
    "emis = xr.open_dataset(path_emission_cdf_test)\n",
    "emis\n",
    "\n",
    "for p in aqi_input:  \n",
    "    \n",
    "    #load basecase concentrations\n",
    "    path_base_conc_cdf_test = f'./input/BC_concs/BCconc_emepV4_45_cams61_withCond_01005_2019_SURF_{p}.nc'\n",
    "    conc = xr.open_dataset(path_base_conc_cdf_test)\n",
    "    #load the SRR model\n",
    "    path_model_cdf_test = f'./input/SRR/SR_SURF_{p}.nc' \n",
    "    srr = xr.open_dataset(path_model_cdf_test)\n",
    "\n",
    "    for s in sc_input:\n",
    "        for y in yrs_input:\n",
    "\n",
    "            #define percentage reductions\n",
    "            path_reduction_txt_test = f'./input/reduction_perc/{s}/reduction_GNFR_{s}_{y}.txt'#user_reduction_GNFR_all.txt'\n",
    "            pd.read_csv(path_reduction_txt_test, sep='\\t')\n",
    "\n",
    "            #define output area and downscaling (not implemented now)\n",
    "            path_result_cdf_test = f'./output/{s}/'\n",
    "            downscale_request = 0 # 0 if you do not need downscale, 1 if you need downscale but only for PM concentrations\n",
    "\n",
    "            #run the model and inspect the results - running time around 1 minute\n",
    "            name_result = \"DCconc_EU_\" + s + \"_\" + y + \"_\"\n",
    "            res = module1(path_emission_cdf_test, path_area_cdf_test, path_reduction_txt_test, path_base_conc_cdf_test, \n",
    "                      path_model_cdf_test, path_result_cdf_test, name_result, downscale_request)\n"
   ],
   "outputs": [
    {
     "name": "stdout",
     "output_type": "stream",
     "text": [
      "\rrogress:12.932138progress:24.071703progress:34.955186progress:43.918054progress:52.752881progress:63.636364progress:75.544174progress:87.836108progress:97.695262progress:8.450704progress:19.334187progress:30.217670progress:38.156210progress:46.862996progress:52.496799progress:59.539052progress:68.117798progress:75.544174progress:84.507042progress:95.006402progress:9.090909progress:19.206146progress:29.065301progress:36.107554progress:42.509603progress:50.832266progress:56.850192progress:67.861716progress:78.233035progress:87.580026progress:95.006402progress:8.194622progress:17.029449progress:24.967990progress:33.034571progress:41.357234progress:49.039693progress:58.514725progress:70.166453progress:77.592830progress:86.811780progress:1.920615progress:4.737516progress:7.170294progress:11.395647progress:13.700384progress:16.389245progress:19.334187progress:21.254802progress:23.687580progress:26.248399progress:28.169014progress:30.217670progress:32.650448progress:34.827145progress:36.363636progress:38.156210progress:40.076825progress:41.741357progress:43.277849progress:44.814341progress:46.350832progress:47.759283progress:49.295775progress:50.832266progress:52.752881progress:54.289373progress:55.953905progress:58.770807progress:61.715749progress:64.276569progress:67.349552progress:69.782330progress:72.343150progress:74.391805progress:76.824584progress:79.385403progress:81.946223progress:84.507042progress:87.067862progress:89.628681progress:92.061460progress:95.646607progress:2.176697progress:4.225352progress:6.786172progress:9.987196progress:13.316261progress:15.620999progress:17.925736progress:19.974392progress:22.407170progress:24.327785progress:26.760563progress:28.809219progress:31.498079progress:33.802817progress:35.979513progress:37.772087progress:39.564661progress:40.973111progress:42.253521progress:43.918054progress:45.710627progress:47.119078progress:48.655570progress:49.935980progress:51.728553progress:53.008963progress:54.929577progress:56.594110progress:59.154930progress:61.459667progress:63.508323progress:66.581306progress:69.398207progress:71.446863progress:73.495519progress:75.416133progress:77.848912progress:79.897567progress:82.458387progress:85.787452progress:88.988476progress:91.677337progress:94.622279progress:2.048656progress:4.609475progress:7.170294progress:10.627401progress:13.700384progress:15.877081progress:18.309859progress:20.230474progress:22.023047progress:23.815621progress:26.504481progress:28.553137progress:30.729834progress:32.522407progress:34.186940progress:35.723431progress:37.387964progress:38.796415progress:40.332907progress:41.741357progress:43.277849progress:44.686300progress:46.094750progress:47.631242progress:49.039693progress:50.960307progress:52.752881progress:54.929577progress:56.466069progress:58.642766progress:60.947503progress:63.764405progress:66.069142progress:68.373880progress:70.934699progress:73.367478progress:75.160051progress:76.952625progress:78.745198progress:81.434059progress:83.866837progress:87.067862progress:89.244558progress:91.677337progress:94.622279progress:2.048656progress:5.249680progress:8.066581progress:11.651729progress:14.340589progress:16.517286progress:18.822023progress:20.870679progress:22.663252progress:24.583867progress:26.504481progress:28.297055progress:30.601793progress:32.650448progress:34.443022progress:36.363636progress:37.900128progress:39.564661progress:41.357234progress:42.765685progress:44.302177progress:45.710627progress:47.375160progress:49.423816progress:50.960307progress:52.496799progress:54.161332progress:55.825864progress:58.002561progress:60.435339progress:62.740077progress:65.172855progress:67.861716progress:69.910371progress:72.215109progress:74.263764progress:76.440461progress:78.233035progress:80.409731progress:82.714469progress:85.403329progress:88.092190progress:90.781050progress:92.957746progress:95.902689\r"
     ]
    }
   ],
   "execution_count": 10
  }
 ],
 "metadata": {
  "kernelspec": {
   "display_name": "Python [conda env:base] *",
   "language": "python",
   "name": "conda-base-py"
  },
  "language_info": {
   "codemirror_mode": {
    "name": "ipython",
    "version": 3
   },
   "file_extension": ".py",
   "mimetype": "text/x-python",
   "name": "python",
   "nbconvert_exporter": "python",
   "pygments_lexer": "ipython3",
   "version": "3.12.3"
  }
 },
 "nbformat": 4,
 "nbformat_minor": 5
}
