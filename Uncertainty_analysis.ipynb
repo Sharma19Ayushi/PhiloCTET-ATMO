{
 "cells": [
  {
   "metadata": {
    "ExecuteTime": {
     "end_time": "2025-03-28T21:05:51.866192Z",
     "start_time": "2025-03-28T21:05:48.971644Z"
    }
   },
   "cell_type": "code",
   "source": [
    "# Import all functions from the required modules\n",
    "from cordo_sherpa_module import *\n",
    "from cordo_ineris_module import *\n",
    "from correction_module import *\n",
    "from expo_functions_module import *\n",
    "from mortality_analysis_module import *\n",
    "from plot_module import *\n",
    "\n",
    "print(\"Successfully loaded all modules\")"
   ],
   "id": "fc79df707c36f988",
   "outputs": [
    {
     "name": "stdout",
     "output_type": "stream",
     "text": [
      "loaded defined RR values\n",
      "Successfully loaded mean conc command\n",
      "Successfully loaded plotting command\n",
      "Successfully loaded all modules\n"
     ]
    }
   ],
   "execution_count": 1
  },
  {
   "metadata": {
    "ExecuteTime": {
     "end_time": "2025-03-28T21:05:55.030190Z",
     "start_time": "2025-03-28T21:05:51.952602Z"
    }
   },
   "cell_type": "code",
   "source": [
    "# Paths to the files\n",
    "path_fichier_shp = \"data/2-output-data/donnees_shp\"\n",
    "title_shp = \"donnees_insee_iris\"\n",
    "path_fichier_pourcents = \"data/2-output-data\"\n",
    "title_pourcents = \"pourcents\"\n",
    "\n",
    "# Load the concentration points\n",
    "conc_points = coordo_sherpa(sc=\"s1\", pol=\"ug_NO2\", year=2019)\n",
    "\n",
    "# Load the exported data\n",
    "donnees_exportees = gpd.read_file(os.path.join(path_fichier_shp, f\"{title_shp}.shp\"))\n",
    "\n",
    "# Transform the CRS of the exported data to match the concentration points\n",
    "donnees_exportees_transformed = donnees_exportees.to_crs(epsg=conc_points.crs.to_epsg())\n",
    "\n",
    "# Check if CRSs are the same\n",
    "if conc_points.crs == donnees_exportees_transformed.crs:\n",
    "    print(\"CRS for conc_points_transformed and donnees_exportees_transformed are the same.\")\n",
    "else:\n",
    "    print(\"CRS for conc_points_transformed and donnees_exportees_transformed are different.\")"
   ],
   "id": "a5bcf7b5bbde23fe",
   "outputs": [
    {
     "name": "stdout",
     "output_type": "stream",
     "text": [
      "Concentrations in 2019 and 2019 are calculated for the pollutant ug_NO2 according to scenario s1.\n",
      "CRS for conc_points_transformed and donnees_exportees_transformed are the same.\n"
     ]
    }
   ],
   "execution_count": 2
  },
  {
   "metadata": {
    "ExecuteTime": {
     "end_time": "2025-03-28T21:08:03.399767Z",
     "start_time": "2025-03-28T21:05:55.034339Z"
    }
   },
   "cell_type": "code",
   "source": [
    "# Define paths for shapefiles\n",
    "path_fichier_shp = \"data/2-output-data/donnees_shp\"\n",
    "path_fichier_shp_1 = \"data/2-output-data/donnees_shp_1\"\n",
    "path_fichier_shp_2 = \"data/2-output-data/donnees_shp_2\"\n",
    "path_fichier_shp_3 = \"data/2-output-data/donnees_shp_3\"\n",
    "path_fichier_pourcents = \"data/2-output-data\"\n",
    "\n",
    "# Titles for INSEE Data\n",
    "title_shp = \"donnees_insee_iris\"\n",
    "title_shp_1 = \"donnees_insee_iris_toutage_1\"\n",
    "title_shp_2 = \"donnees_insee_iris_toutage_2\"\n",
    "title_shp_3 = \"donnees_insee_iris_toutage_3\"\n",
    "title_pourcents = \"pourcents\"\n",
    "\n",
    "# Read shapefiles into GeoDataFrames\n",
    "donnees_shp_1 = gpd.read_file(os.path.join(path_fichier_shp_1, f\"{title_shp_1}.shp\"))\n",
    "donnees_shp_2 = gpd.read_file(os.path.join(path_fichier_shp_2, f\"{title_shp_2}.shp\"))\n",
    "donnees_shp_3 = gpd.read_file(os.path.join(path_fichier_shp_3, f\"{title_shp_3}.shp\"))\n",
    "\n",
    "# Combine the three GeoDataFrames\n",
    "donnees_merged = gpd.GeoDataFrame(pd.concat([donnees_shp_1, donnees_shp_2, donnees_shp_3], ignore_index=True))\n",
    "\n",
    "grille_combinee = gpd.read_file(os.path.join(path_fichier_pourcents, f\"{title_pourcents}.shp\"))\n",
    "grille_combinee = grille_combinee.to_crs(conc_points.crs)"
   ],
   "id": "3ea1b0a4a1bfd187",
   "outputs": [],
   "execution_count": 3
  },
  {
   "metadata": {
    "collapsed": true,
    "ExecuteTime": {
     "end_time": "2025-03-28T21:51:54.514639Z",
     "start_time": "2025-03-28T21:08:32.214785Z"
    }
   },
   "cell_type": "code",
   "source": [
    "# Import required libraries\n",
    "import os\n",
    "# Define scenarios, pollutants, and years\n",
    "scenarios = [\"s1\", \"s2\",\"s3\", \"s4\"]\n",
    "pollutants = [\"ug_PM25_RH50_low\", \"ug_PM25_RH50_high\", \"ug_NO2_low\", \"ug_NO2_high\"]\n",
    "years = [\"2030\", \"2050\"]\n",
    "\n",
    "# Loop through scenarios, pollutants, and years\n",
    "for sc in scenarios:\n",
    "    for year in years:\n",
    "        for pol in pollutants:\n",
    "            if pol in [\"ug_PM25_RH50_low\", \"ug_PM25_RH50_high\"]:\n",
    "                pol_new = \"ug_PM25_RH50\"\n",
    "            elif pol in [\"ug_NO2_low\", \"ug_NO2_high\"]:\n",
    "                pol_new = \"ug_NO2\"\n",
    "\n",
    "            # Replace these functions with appropriate implementations\n",
    "            conc_points = coordo_sherpa(sc, pol, year)\n",
    "            donnees_exportees_transformed = donnees_exportees.to_crs(conc_points.crs)\n",
    "            conc_ineris = coordo_ineris(pol)\n",
    "            conc_corrigee = correction(conc_points, conc_ineris)\n",
    "            donnees_expo = expo(donnees_exportees_transformed, conc_corrigee, grille_combinee)\n",
    "\n",
    "            path_fichier_expo_init = f\"data/2-output-data/{sc}/{pol_new}/{year}\"\n",
    "            title_expo = \"expo-shp\"\n",
    "\n",
    "            path = f\"data/2-output-data/{sc}/{pol}/{year}\"\n",
    "            os.makedirs(path, exist_ok=True)\n",
    "\n",
    "            csv_path = os.path.join(path, \"mortalite_evitee.csv\")\n",
    "            tab = mortalite_age(donnees_merged, donnees_expo, year, pol)\n",
    "            tab.to_csv(csv_path, index=False)\n",
    "\n",
    "            res = life_exp(tab, year)\n",
    "            csv_path2 = os.path.join(path, \"esp_vie.csv\")\n",
    "            res.to_csv(csv_path2, index=False)\n"
   ],
   "id": "initial_id",
   "outputs": [
    {
     "name": "stdout",
     "output_type": "stream",
     "text": [
      "Concentrations in 2019 and 2030 are calculated for the pollutant ug_PM25_RH50 according to scenario s1.\n",
      "Starting coordo_ineris function\n",
      "Loading data from data/1-processed-data/SHERPA/conc-2019/Reanalysed_FRA_2019_PM25_avgannual_Ineris_v.Jan2024.nc\n",
      "Finished processing coordo_ineris function\n"
     ]
    },
    {
     "name": "stderr",
     "output_type": "stream",
     "text": [
      "C:\\Users\\aysharma\\anaconda3\\Lib\\site-packages\\numpy\\core\\fromnumeric.py:59: FutureWarning: 'GeoDataFrame.swapaxes' is deprecated and will be removed in a future version. Please use 'GeoDataFrame.transpose' instead.\n",
      "  return bound(*args, **kwds)\n",
      "C:\\Users\\aysharma\\anaconda3\\Lib\\site-packages\\numpy\\core\\fromnumeric.py:59: FutureWarning: 'GeoDataFrame.swapaxes' is deprecated and will be removed in a future version. Please use 'GeoDataFrame.transpose' instead.\n",
      "  return bound(*args, **kwds)\n",
      "C:\\Users\\aysharma\\anaconda3\\Lib\\site-packages\\numpy\\core\\fromnumeric.py:59: FutureWarning: 'GeoDataFrame.swapaxes' is deprecated and will be removed in a future version. Please use 'GeoDataFrame.transpose' instead.\n",
      "  return bound(*args, **kwds)\n",
      "C:\\Users\\aysharma\\anaconda3\\Lib\\site-packages\\numpy\\core\\fromnumeric.py:59: FutureWarning: 'GeoDataFrame.swapaxes' is deprecated and will be removed in a future version. Please use 'GeoDataFrame.transpose' instead.\n",
      "  return bound(*args, **kwds)\n",
      "C:\\Users\\aysharma\\anaconda3\\Lib\\site-packages\\numpy\\core\\fromnumeric.py:59: FutureWarning: 'GeoDataFrame.swapaxes' is deprecated and will be removed in a future version. Please use 'GeoDataFrame.transpose' instead.\n",
      "  return bound(*args, **kwds)\n",
      "C:\\Users\\aysharma\\Eqis_codes\\mortality_analysis_module.py:133: FutureWarning: Setting an item of incompatible dtype is deprecated and will raise an error in a future version of pandas. Value '3.7306731404832028' has dtype incompatible with int64, please explicitly cast to a compatible dtype first.\n",
      "  donnees.loc[donnees['age'] == age, 'mort'] = mort\n",
      "C:\\Users\\aysharma\\Eqis_codes\\mortality_analysis_module.py:134: FutureWarning: Setting an item of incompatible dtype is deprecated and will raise an error in a future version of pandas. Value '0.00046335226785193317' has dtype incompatible with int64, please explicitly cast to a compatible dtype first.\n",
      "  donnees.loc[donnees['age'] == age, 'taux_initial'] = taux_initial\n",
      "C:\\Users\\aysharma\\Eqis_codes\\mortality_analysis_module.py:135: FutureWarning: Setting an item of incompatible dtype is deprecated and will raise an error in a future version of pandas. Value '0.00045827085612797417' has dtype incompatible with int64, please explicitly cast to a compatible dtype first.\n",
      "  donnees.loc[donnees['age'] == age, 'taux_corrige'] = taux_corrige\n",
      "C:\\Users\\aysharma\\Eqis_codes\\mortality_analysis_module.py:136: FutureWarning: Setting an item of incompatible dtype is deprecated and will raise an error in a future version of pandas. Value '201.45634958609295' has dtype incompatible with int64, please explicitly cast to a compatible dtype first.\n",
      "  donnees.loc[donnees['age'] == age, 'annees_gagnees'] = annees_gagnees\n"
     ]
    },
    {
     "name": "stdout",
     "output_type": "stream",
     "text": [
      "Concentrations in 2019 and 2030 are calculated for the pollutant ug_PM25_RH50 according to scenario s1.\n",
      "Starting coordo_ineris function\n",
      "Loading data from data/1-processed-data/SHERPA/conc-2019/Reanalysed_FRA_2019_PM25_avgannual_Ineris_v.Jan2024.nc\n",
      "Finished processing coordo_ineris function\n"
     ]
    },
    {
     "name": "stderr",
     "output_type": "stream",
     "text": [
      "C:\\Users\\aysharma\\anaconda3\\Lib\\site-packages\\numpy\\core\\fromnumeric.py:59: FutureWarning: 'GeoDataFrame.swapaxes' is deprecated and will be removed in a future version. Please use 'GeoDataFrame.transpose' instead.\n",
      "  return bound(*args, **kwds)\n",
      "C:\\Users\\aysharma\\anaconda3\\Lib\\site-packages\\numpy\\core\\fromnumeric.py:59: FutureWarning: 'GeoDataFrame.swapaxes' is deprecated and will be removed in a future version. Please use 'GeoDataFrame.transpose' instead.\n",
      "  return bound(*args, **kwds)\n",
      "C:\\Users\\aysharma\\anaconda3\\Lib\\site-packages\\numpy\\core\\fromnumeric.py:59: FutureWarning: 'GeoDataFrame.swapaxes' is deprecated and will be removed in a future version. Please use 'GeoDataFrame.transpose' instead.\n",
      "  return bound(*args, **kwds)\n",
      "C:\\Users\\aysharma\\anaconda3\\Lib\\site-packages\\numpy\\core\\fromnumeric.py:59: FutureWarning: 'GeoDataFrame.swapaxes' is deprecated and will be removed in a future version. Please use 'GeoDataFrame.transpose' instead.\n",
      "  return bound(*args, **kwds)\n",
      "C:\\Users\\aysharma\\anaconda3\\Lib\\site-packages\\numpy\\core\\fromnumeric.py:59: FutureWarning: 'GeoDataFrame.swapaxes' is deprecated and will be removed in a future version. Please use 'GeoDataFrame.transpose' instead.\n",
      "  return bound(*args, **kwds)\n",
      "C:\\Users\\aysharma\\Eqis_codes\\mortality_analysis_module.py:133: FutureWarning: Setting an item of incompatible dtype is deprecated and will raise an error in a future version of pandas. Value '16.710388192416254' has dtype incompatible with int64, please explicitly cast to a compatible dtype first.\n",
      "  donnees.loc[donnees['age'] == age, 'mort'] = mort\n",
      "C:\\Users\\aysharma\\Eqis_codes\\mortality_analysis_module.py:134: FutureWarning: Setting an item of incompatible dtype is deprecated and will raise an error in a future version of pandas. Value '0.00046335226785193317' has dtype incompatible with int64, please explicitly cast to a compatible dtype first.\n",
      "  donnees.loc[donnees['age'] == age, 'taux_initial'] = taux_initial\n",
      "C:\\Users\\aysharma\\Eqis_codes\\mortality_analysis_module.py:135: FutureWarning: Setting an item of incompatible dtype is deprecated and will raise an error in a future version of pandas. Value '0.00044059166694282947' has dtype incompatible with int64, please explicitly cast to a compatible dtype first.\n",
      "  donnees.loc[donnees['age'] == age, 'taux_corrige'] = taux_corrige\n",
      "C:\\Users\\aysharma\\Eqis_codes\\mortality_analysis_module.py:136: FutureWarning: Setting an item of incompatible dtype is deprecated and will raise an error in a future version of pandas. Value '902.3609623904777' has dtype incompatible with int64, please explicitly cast to a compatible dtype first.\n",
      "  donnees.loc[donnees['age'] == age, 'annees_gagnees'] = annees_gagnees\n"
     ]
    },
    {
     "name": "stdout",
     "output_type": "stream",
     "text": [
      "Concentrations in 2019 and 2030 are calculated for the pollutant ug_NO2 according to scenario s1.\n",
      "Starting coordo_ineris function\n",
      "Loading data from data/1-processed-data/SHERPA/conc-2019/Reanalysed_FRA_2019_NO2_avgannual_Ineris_v.Jan2024.nc\n",
      "Finished processing coordo_ineris function\n"
     ]
    },
    {
     "name": "stderr",
     "output_type": "stream",
     "text": [
      "C:\\Users\\aysharma\\anaconda3\\Lib\\site-packages\\numpy\\core\\fromnumeric.py:59: FutureWarning: 'GeoDataFrame.swapaxes' is deprecated and will be removed in a future version. Please use 'GeoDataFrame.transpose' instead.\n",
      "  return bound(*args, **kwds)\n",
      "C:\\Users\\aysharma\\anaconda3\\Lib\\site-packages\\numpy\\core\\fromnumeric.py:59: FutureWarning: 'GeoDataFrame.swapaxes' is deprecated and will be removed in a future version. Please use 'GeoDataFrame.transpose' instead.\n",
      "  return bound(*args, **kwds)\n",
      "C:\\Users\\aysharma\\anaconda3\\Lib\\site-packages\\numpy\\core\\fromnumeric.py:59: FutureWarning: 'GeoDataFrame.swapaxes' is deprecated and will be removed in a future version. Please use 'GeoDataFrame.transpose' instead.\n",
      "  return bound(*args, **kwds)\n",
      "C:\\Users\\aysharma\\anaconda3\\Lib\\site-packages\\numpy\\core\\fromnumeric.py:59: FutureWarning: 'GeoDataFrame.swapaxes' is deprecated and will be removed in a future version. Please use 'GeoDataFrame.transpose' instead.\n",
      "  return bound(*args, **kwds)\n",
      "C:\\Users\\aysharma\\anaconda3\\Lib\\site-packages\\numpy\\core\\fromnumeric.py:59: FutureWarning: 'GeoDataFrame.swapaxes' is deprecated and will be removed in a future version. Please use 'GeoDataFrame.transpose' instead.\n",
      "  return bound(*args, **kwds)\n",
      "C:\\Users\\aysharma\\Eqis_codes\\mortality_analysis_module.py:133: FutureWarning: Setting an item of incompatible dtype is deprecated and will raise an error in a future version of pandas. Value '1.4227700074808025' has dtype incompatible with int64, please explicitly cast to a compatible dtype first.\n",
      "  donnees.loc[donnees['age'] == age, 'mort'] = mort\n",
      "C:\\Users\\aysharma\\Eqis_codes\\mortality_analysis_module.py:134: FutureWarning: Setting an item of incompatible dtype is deprecated and will raise an error in a future version of pandas. Value '0.00046335226785193317' has dtype incompatible with int64, please explicitly cast to a compatible dtype first.\n",
      "  donnees.loc[donnees['age'] == age, 'taux_initial'] = taux_initial\n",
      "C:\\Users\\aysharma\\Eqis_codes\\mortality_analysis_module.py:135: FutureWarning: Setting an item of incompatible dtype is deprecated and will raise an error in a future version of pandas. Value '0.0004614143655152054' has dtype incompatible with int64, please explicitly cast to a compatible dtype first.\n",
      "  donnees.loc[donnees['age'] == age, 'taux_corrige'] = taux_corrige\n",
      "C:\\Users\\aysharma\\Eqis_codes\\mortality_analysis_module.py:136: FutureWarning: Setting an item of incompatible dtype is deprecated and will raise an error in a future version of pandas. Value '76.82958040396333' has dtype incompatible with int64, please explicitly cast to a compatible dtype first.\n",
      "  donnees.loc[donnees['age'] == age, 'annees_gagnees'] = annees_gagnees\n"
     ]
    },
    {
     "name": "stdout",
     "output_type": "stream",
     "text": [
      "Concentrations in 2019 and 2030 are calculated for the pollutant ug_NO2 according to scenario s1.\n",
      "Starting coordo_ineris function\n",
      "Loading data from data/1-processed-data/SHERPA/conc-2019/Reanalysed_FRA_2019_NO2_avgannual_Ineris_v.Jan2024.nc\n",
      "Finished processing coordo_ineris function\n"
     ]
    },
    {
     "name": "stderr",
     "output_type": "stream",
     "text": [
      "C:\\Users\\aysharma\\anaconda3\\Lib\\site-packages\\numpy\\core\\fromnumeric.py:59: FutureWarning: 'GeoDataFrame.swapaxes' is deprecated and will be removed in a future version. Please use 'GeoDataFrame.transpose' instead.\n",
      "  return bound(*args, **kwds)\n",
      "C:\\Users\\aysharma\\anaconda3\\Lib\\site-packages\\numpy\\core\\fromnumeric.py:59: FutureWarning: 'GeoDataFrame.swapaxes' is deprecated and will be removed in a future version. Please use 'GeoDataFrame.transpose' instead.\n",
      "  return bound(*args, **kwds)\n",
      "C:\\Users\\aysharma\\anaconda3\\Lib\\site-packages\\numpy\\core\\fromnumeric.py:59: FutureWarning: 'GeoDataFrame.swapaxes' is deprecated and will be removed in a future version. Please use 'GeoDataFrame.transpose' instead.\n",
      "  return bound(*args, **kwds)\n",
      "C:\\Users\\aysharma\\anaconda3\\Lib\\site-packages\\numpy\\core\\fromnumeric.py:59: FutureWarning: 'GeoDataFrame.swapaxes' is deprecated and will be removed in a future version. Please use 'GeoDataFrame.transpose' instead.\n",
      "  return bound(*args, **kwds)\n",
      "C:\\Users\\aysharma\\anaconda3\\Lib\\site-packages\\numpy\\core\\fromnumeric.py:59: FutureWarning: 'GeoDataFrame.swapaxes' is deprecated and will be removed in a future version. Please use 'GeoDataFrame.transpose' instead.\n",
      "  return bound(*args, **kwds)\n",
      "C:\\Users\\aysharma\\Eqis_codes\\mortality_analysis_module.py:133: FutureWarning: Setting an item of incompatible dtype is deprecated and will raise an error in a future version of pandas. Value '6.417044688067044' has dtype incompatible with int64, please explicitly cast to a compatible dtype first.\n",
      "  donnees.loc[donnees['age'] == age, 'mort'] = mort\n",
      "C:\\Users\\aysharma\\Eqis_codes\\mortality_analysis_module.py:134: FutureWarning: Setting an item of incompatible dtype is deprecated and will raise an error in a future version of pandas. Value '0.00046335226785193317' has dtype incompatible with int64, please explicitly cast to a compatible dtype first.\n",
      "  donnees.loc[donnees['age'] == age, 'taux_initial'] = taux_initial\n",
      "C:\\Users\\aysharma\\Eqis_codes\\mortality_analysis_module.py:135: FutureWarning: Setting an item of incompatible dtype is deprecated and will raise an error in a future version of pandas. Value '0.0004546118489293337' has dtype incompatible with int64, please explicitly cast to a compatible dtype first.\n",
      "  donnees.loc[donnees['age'] == age, 'taux_corrige'] = taux_corrige\n",
      "C:\\Users\\aysharma\\Eqis_codes\\mortality_analysis_module.py:136: FutureWarning: Setting an item of incompatible dtype is deprecated and will raise an error in a future version of pandas. Value '346.52041315562036' has dtype incompatible with int64, please explicitly cast to a compatible dtype first.\n",
      "  donnees.loc[donnees['age'] == age, 'annees_gagnees'] = annees_gagnees\n"
     ]
    },
    {
     "name": "stdout",
     "output_type": "stream",
     "text": [
      "Concentrations in 2019 and 2050 are calculated for the pollutant ug_PM25_RH50 according to scenario s1.\n",
      "Starting coordo_ineris function\n",
      "Loading data from data/1-processed-data/SHERPA/conc-2019/Reanalysed_FRA_2019_PM25_avgannual_Ineris_v.Jan2024.nc\n",
      "Finished processing coordo_ineris function\n"
     ]
    },
    {
     "name": "stderr",
     "output_type": "stream",
     "text": [
      "C:\\Users\\aysharma\\anaconda3\\Lib\\site-packages\\numpy\\core\\fromnumeric.py:59: FutureWarning: 'GeoDataFrame.swapaxes' is deprecated and will be removed in a future version. Please use 'GeoDataFrame.transpose' instead.\n",
      "  return bound(*args, **kwds)\n",
      "C:\\Users\\aysharma\\anaconda3\\Lib\\site-packages\\numpy\\core\\fromnumeric.py:59: FutureWarning: 'GeoDataFrame.swapaxes' is deprecated and will be removed in a future version. Please use 'GeoDataFrame.transpose' instead.\n",
      "  return bound(*args, **kwds)\n",
      "C:\\Users\\aysharma\\anaconda3\\Lib\\site-packages\\numpy\\core\\fromnumeric.py:59: FutureWarning: 'GeoDataFrame.swapaxes' is deprecated and will be removed in a future version. Please use 'GeoDataFrame.transpose' instead.\n",
      "  return bound(*args, **kwds)\n",
      "C:\\Users\\aysharma\\anaconda3\\Lib\\site-packages\\numpy\\core\\fromnumeric.py:59: FutureWarning: 'GeoDataFrame.swapaxes' is deprecated and will be removed in a future version. Please use 'GeoDataFrame.transpose' instead.\n",
      "  return bound(*args, **kwds)\n",
      "C:\\Users\\aysharma\\anaconda3\\Lib\\site-packages\\numpy\\core\\fromnumeric.py:59: FutureWarning: 'GeoDataFrame.swapaxes' is deprecated and will be removed in a future version. Please use 'GeoDataFrame.transpose' instead.\n",
      "  return bound(*args, **kwds)\n",
      "C:\\Users\\aysharma\\Eqis_codes\\mortality_analysis_module.py:133: FutureWarning: Setting an item of incompatible dtype is deprecated and will raise an error in a future version of pandas. Value '3.319070470259914' has dtype incompatible with int64, please explicitly cast to a compatible dtype first.\n",
      "  donnees.loc[donnees['age'] == age, 'mort'] = mort\n",
      "C:\\Users\\aysharma\\Eqis_codes\\mortality_analysis_module.py:134: FutureWarning: Setting an item of incompatible dtype is deprecated and will raise an error in a future version of pandas. Value '0.0002975735690330468' has dtype incompatible with int64, please explicitly cast to a compatible dtype first.\n",
      "  donnees.loc[donnees['age'] == age, 'taux_initial'] = taux_initial\n",
      "C:\\Users\\aysharma\\Eqis_codes\\mortality_analysis_module.py:135: FutureWarning: Setting an item of incompatible dtype is deprecated and will raise an error in a future version of pandas. Value '0.0002929655574174902' has dtype incompatible with int64, please explicitly cast to a compatible dtype first.\n",
      "  donnees.loc[donnees['age'] == age, 'taux_corrige'] = taux_corrige\n",
      "C:\\Users\\aysharma\\Eqis_codes\\mortality_analysis_module.py:136: FutureWarning: Setting an item of incompatible dtype is deprecated and will raise an error in a future version of pandas. Value '185.8679463345552' has dtype incompatible with int64, please explicitly cast to a compatible dtype first.\n",
      "  donnees.loc[donnees['age'] == age, 'annees_gagnees'] = annees_gagnees\n"
     ]
    },
    {
     "name": "stdout",
     "output_type": "stream",
     "text": [
      "Concentrations in 2019 and 2050 are calculated for the pollutant ug_PM25_RH50 according to scenario s1.\n",
      "Starting coordo_ineris function\n",
      "Loading data from data/1-processed-data/SHERPA/conc-2019/Reanalysed_FRA_2019_PM25_avgannual_Ineris_v.Jan2024.nc\n",
      "Finished processing coordo_ineris function\n"
     ]
    },
    {
     "name": "stderr",
     "output_type": "stream",
     "text": [
      "C:\\Users\\aysharma\\anaconda3\\Lib\\site-packages\\numpy\\core\\fromnumeric.py:59: FutureWarning: 'GeoDataFrame.swapaxes' is deprecated and will be removed in a future version. Please use 'GeoDataFrame.transpose' instead.\n",
      "  return bound(*args, **kwds)\n",
      "C:\\Users\\aysharma\\anaconda3\\Lib\\site-packages\\numpy\\core\\fromnumeric.py:59: FutureWarning: 'GeoDataFrame.swapaxes' is deprecated and will be removed in a future version. Please use 'GeoDataFrame.transpose' instead.\n",
      "  return bound(*args, **kwds)\n",
      "C:\\Users\\aysharma\\anaconda3\\Lib\\site-packages\\numpy\\core\\fromnumeric.py:59: FutureWarning: 'GeoDataFrame.swapaxes' is deprecated and will be removed in a future version. Please use 'GeoDataFrame.transpose' instead.\n",
      "  return bound(*args, **kwds)\n",
      "C:\\Users\\aysharma\\anaconda3\\Lib\\site-packages\\numpy\\core\\fromnumeric.py:59: FutureWarning: 'GeoDataFrame.swapaxes' is deprecated and will be removed in a future version. Please use 'GeoDataFrame.transpose' instead.\n",
      "  return bound(*args, **kwds)\n",
      "C:\\Users\\aysharma\\anaconda3\\Lib\\site-packages\\numpy\\core\\fromnumeric.py:59: FutureWarning: 'GeoDataFrame.swapaxes' is deprecated and will be removed in a future version. Please use 'GeoDataFrame.transpose' instead.\n",
      "  return bound(*args, **kwds)\n",
      "C:\\Users\\aysharma\\Eqis_codes\\mortality_analysis_module.py:133: FutureWarning: Setting an item of incompatible dtype is deprecated and will raise an error in a future version of pandas. Value '14.74055651693709' has dtype incompatible with int64, please explicitly cast to a compatible dtype first.\n",
      "  donnees.loc[donnees['age'] == age, 'mort'] = mort\n",
      "C:\\Users\\aysharma\\Eqis_codes\\mortality_analysis_module.py:134: FutureWarning: Setting an item of incompatible dtype is deprecated and will raise an error in a future version of pandas. Value '0.0002975735690330468' has dtype incompatible with int64, please explicitly cast to a compatible dtype first.\n",
      "  donnees.loc[donnees['age'] == age, 'taux_initial'] = taux_initial\n",
      "C:\\Users\\aysharma\\Eqis_codes\\mortality_analysis_module.py:135: FutureWarning: Setting an item of incompatible dtype is deprecated and will raise an error in a future version of pandas. Value '0.00027710860564692885' has dtype incompatible with int64, please explicitly cast to a compatible dtype first.\n",
      "  donnees.loc[donnees['age'] == age, 'taux_corrige'] = taux_corrige\n",
      "C:\\Users\\aysharma\\Eqis_codes\\mortality_analysis_module.py:136: FutureWarning: Setting an item of incompatible dtype is deprecated and will raise an error in a future version of pandas. Value '825.471164948477' has dtype incompatible with int64, please explicitly cast to a compatible dtype first.\n",
      "  donnees.loc[donnees['age'] == age, 'annees_gagnees'] = annees_gagnees\n"
     ]
    },
    {
     "name": "stdout",
     "output_type": "stream",
     "text": [
      "Concentrations in 2019 and 2050 are calculated for the pollutant ug_NO2 according to scenario s1.\n",
      "Starting coordo_ineris function\n",
      "Loading data from data/1-processed-data/SHERPA/conc-2019/Reanalysed_FRA_2019_NO2_avgannual_Ineris_v.Jan2024.nc\n",
      "Finished processing coordo_ineris function\n"
     ]
    },
    {
     "name": "stderr",
     "output_type": "stream",
     "text": [
      "C:\\Users\\aysharma\\anaconda3\\Lib\\site-packages\\numpy\\core\\fromnumeric.py:59: FutureWarning: 'GeoDataFrame.swapaxes' is deprecated and will be removed in a future version. Please use 'GeoDataFrame.transpose' instead.\n",
      "  return bound(*args, **kwds)\n",
      "C:\\Users\\aysharma\\anaconda3\\Lib\\site-packages\\numpy\\core\\fromnumeric.py:59: FutureWarning: 'GeoDataFrame.swapaxes' is deprecated and will be removed in a future version. Please use 'GeoDataFrame.transpose' instead.\n",
      "  return bound(*args, **kwds)\n",
      "C:\\Users\\aysharma\\anaconda3\\Lib\\site-packages\\numpy\\core\\fromnumeric.py:59: FutureWarning: 'GeoDataFrame.swapaxes' is deprecated and will be removed in a future version. Please use 'GeoDataFrame.transpose' instead.\n",
      "  return bound(*args, **kwds)\n",
      "C:\\Users\\aysharma\\anaconda3\\Lib\\site-packages\\numpy\\core\\fromnumeric.py:59: FutureWarning: 'GeoDataFrame.swapaxes' is deprecated and will be removed in a future version. Please use 'GeoDataFrame.transpose' instead.\n",
      "  return bound(*args, **kwds)\n",
      "C:\\Users\\aysharma\\anaconda3\\Lib\\site-packages\\numpy\\core\\fromnumeric.py:59: FutureWarning: 'GeoDataFrame.swapaxes' is deprecated and will be removed in a future version. Please use 'GeoDataFrame.transpose' instead.\n",
      "  return bound(*args, **kwds)\n",
      "C:\\Users\\aysharma\\Eqis_codes\\mortality_analysis_module.py:133: FutureWarning: Setting an item of incompatible dtype is deprecated and will raise an error in a future version of pandas. Value '1.2353940439273066' has dtype incompatible with int64, please explicitly cast to a compatible dtype first.\n",
      "  donnees.loc[donnees['age'] == age, 'mort'] = mort\n",
      "C:\\Users\\aysharma\\Eqis_codes\\mortality_analysis_module.py:134: FutureWarning: Setting an item of incompatible dtype is deprecated and will raise an error in a future version of pandas. Value '0.0002975735690330468' has dtype incompatible with int64, please explicitly cast to a compatible dtype first.\n",
      "  donnees.loc[donnees['age'] == age, 'taux_initial'] = taux_initial\n",
      "C:\\Users\\aysharma\\Eqis_codes\\mortality_analysis_module.py:135: FutureWarning: Setting an item of incompatible dtype is deprecated and will raise an error in a future version of pandas. Value '0.00029585841710867065' has dtype incompatible with int64, please explicitly cast to a compatible dtype first.\n",
      "  donnees.loc[donnees['age'] == age, 'taux_corrige'] = taux_corrige\n",
      "C:\\Users\\aysharma\\Eqis_codes\\mortality_analysis_module.py:136: FutureWarning: Setting an item of incompatible dtype is deprecated and will raise an error in a future version of pandas. Value '69.18206645992916' has dtype incompatible with int64, please explicitly cast to a compatible dtype first.\n",
      "  donnees.loc[donnees['age'] == age, 'annees_gagnees'] = annees_gagnees\n"
     ]
    },
    {
     "name": "stdout",
     "output_type": "stream",
     "text": [
      "Concentrations in 2019 and 2050 are calculated for the pollutant ug_NO2 according to scenario s1.\n",
      "Starting coordo_ineris function\n",
      "Loading data from data/1-processed-data/SHERPA/conc-2019/Reanalysed_FRA_2019_NO2_avgannual_Ineris_v.Jan2024.nc\n",
      "Finished processing coordo_ineris function\n"
     ]
    },
    {
     "name": "stderr",
     "output_type": "stream",
     "text": [
      "C:\\Users\\aysharma\\anaconda3\\Lib\\site-packages\\numpy\\core\\fromnumeric.py:59: FutureWarning: 'GeoDataFrame.swapaxes' is deprecated and will be removed in a future version. Please use 'GeoDataFrame.transpose' instead.\n",
      "  return bound(*args, **kwds)\n",
      "C:\\Users\\aysharma\\anaconda3\\Lib\\site-packages\\numpy\\core\\fromnumeric.py:59: FutureWarning: 'GeoDataFrame.swapaxes' is deprecated and will be removed in a future version. Please use 'GeoDataFrame.transpose' instead.\n",
      "  return bound(*args, **kwds)\n",
      "C:\\Users\\aysharma\\anaconda3\\Lib\\site-packages\\numpy\\core\\fromnumeric.py:59: FutureWarning: 'GeoDataFrame.swapaxes' is deprecated and will be removed in a future version. Please use 'GeoDataFrame.transpose' instead.\n",
      "  return bound(*args, **kwds)\n",
      "C:\\Users\\aysharma\\anaconda3\\Lib\\site-packages\\numpy\\core\\fromnumeric.py:59: FutureWarning: 'GeoDataFrame.swapaxes' is deprecated and will be removed in a future version. Please use 'GeoDataFrame.transpose' instead.\n",
      "  return bound(*args, **kwds)\n",
      "C:\\Users\\aysharma\\anaconda3\\Lib\\site-packages\\numpy\\core\\fromnumeric.py:59: FutureWarning: 'GeoDataFrame.swapaxes' is deprecated and will be removed in a future version. Please use 'GeoDataFrame.transpose' instead.\n",
      "  return bound(*args, **kwds)\n",
      "C:\\Users\\aysharma\\Eqis_codes\\mortality_analysis_module.py:133: FutureWarning: Setting an item of incompatible dtype is deprecated and will raise an error in a future version of pandas. Value '5.550363597789601' has dtype incompatible with int64, please explicitly cast to a compatible dtype first.\n",
      "  donnees.loc[donnees['age'] == age, 'mort'] = mort\n",
      "C:\\Users\\aysharma\\Eqis_codes\\mortality_analysis_module.py:134: FutureWarning: Setting an item of incompatible dtype is deprecated and will raise an error in a future version of pandas. Value '0.0002975735690330468' has dtype incompatible with int64, please explicitly cast to a compatible dtype first.\n",
      "  donnees.loc[donnees['age'] == age, 'taux_initial'] = taux_initial\n",
      "C:\\Users\\aysharma\\Eqis_codes\\mortality_analysis_module.py:135: FutureWarning: Setting an item of incompatible dtype is deprecated and will raise an error in a future version of pandas. Value '0.00028986775496300863' has dtype incompatible with int64, please explicitly cast to a compatible dtype first.\n",
      "  donnees.loc[donnees['age'] == age, 'taux_corrige'] = taux_corrige\n",
      "C:\\Users\\aysharma\\Eqis_codes\\mortality_analysis_module.py:136: FutureWarning: Setting an item of incompatible dtype is deprecated and will raise an error in a future version of pandas. Value '310.82036147621767' has dtype incompatible with int64, please explicitly cast to a compatible dtype first.\n",
      "  donnees.loc[donnees['age'] == age, 'annees_gagnees'] = annees_gagnees\n"
     ]
    },
    {
     "name": "stdout",
     "output_type": "stream",
     "text": [
      "Concentrations in 2019 and 2030 are calculated for the pollutant ug_PM25_RH50 according to scenario s2.\n",
      "Starting coordo_ineris function\n",
      "Loading data from data/1-processed-data/SHERPA/conc-2019/Reanalysed_FRA_2019_PM25_avgannual_Ineris_v.Jan2024.nc\n",
      "Finished processing coordo_ineris function\n"
     ]
    },
    {
     "name": "stderr",
     "output_type": "stream",
     "text": [
      "C:\\Users\\aysharma\\anaconda3\\Lib\\site-packages\\numpy\\core\\fromnumeric.py:59: FutureWarning: 'GeoDataFrame.swapaxes' is deprecated and will be removed in a future version. Please use 'GeoDataFrame.transpose' instead.\n",
      "  return bound(*args, **kwds)\n",
      "C:\\Users\\aysharma\\anaconda3\\Lib\\site-packages\\numpy\\core\\fromnumeric.py:59: FutureWarning: 'GeoDataFrame.swapaxes' is deprecated and will be removed in a future version. Please use 'GeoDataFrame.transpose' instead.\n",
      "  return bound(*args, **kwds)\n",
      "C:\\Users\\aysharma\\anaconda3\\Lib\\site-packages\\numpy\\core\\fromnumeric.py:59: FutureWarning: 'GeoDataFrame.swapaxes' is deprecated and will be removed in a future version. Please use 'GeoDataFrame.transpose' instead.\n",
      "  return bound(*args, **kwds)\n",
      "C:\\Users\\aysharma\\anaconda3\\Lib\\site-packages\\numpy\\core\\fromnumeric.py:59: FutureWarning: 'GeoDataFrame.swapaxes' is deprecated and will be removed in a future version. Please use 'GeoDataFrame.transpose' instead.\n",
      "  return bound(*args, **kwds)\n",
      "C:\\Users\\aysharma\\anaconda3\\Lib\\site-packages\\numpy\\core\\fromnumeric.py:59: FutureWarning: 'GeoDataFrame.swapaxes' is deprecated and will be removed in a future version. Please use 'GeoDataFrame.transpose' instead.\n",
      "  return bound(*args, **kwds)\n",
      "C:\\Users\\aysharma\\Eqis_codes\\mortality_analysis_module.py:133: FutureWarning: Setting an item of incompatible dtype is deprecated and will raise an error in a future version of pandas. Value '3.7760666089967914' has dtype incompatible with int64, please explicitly cast to a compatible dtype first.\n",
      "  donnees.loc[donnees['age'] == age, 'mort'] = mort\n",
      "C:\\Users\\aysharma\\Eqis_codes\\mortality_analysis_module.py:134: FutureWarning: Setting an item of incompatible dtype is deprecated and will raise an error in a future version of pandas. Value '0.00046335226785193317' has dtype incompatible with int64, please explicitly cast to a compatible dtype first.\n",
      "  donnees.loc[donnees['age'] == age, 'taux_initial'] = taux_initial\n",
      "C:\\Users\\aysharma\\Eqis_codes\\mortality_analysis_module.py:135: FutureWarning: Setting an item of incompatible dtype is deprecated and will raise an error in a future version of pandas. Value '0.0004582090273656006' has dtype incompatible with int64, please explicitly cast to a compatible dtype first.\n",
      "  donnees.loc[donnees['age'] == age, 'taux_corrige'] = taux_corrige\n",
      "C:\\Users\\aysharma\\Eqis_codes\\mortality_analysis_module.py:136: FutureWarning: Setting an item of incompatible dtype is deprecated and will raise an error in a future version of pandas. Value '203.90759688582673' has dtype incompatible with int64, please explicitly cast to a compatible dtype first.\n",
      "  donnees.loc[donnees['age'] == age, 'annees_gagnees'] = annees_gagnees\n"
     ]
    },
    {
     "name": "stdout",
     "output_type": "stream",
     "text": [
      "Concentrations in 2019 and 2030 are calculated for the pollutant ug_PM25_RH50 according to scenario s2.\n",
      "Starting coordo_ineris function\n",
      "Loading data from data/1-processed-data/SHERPA/conc-2019/Reanalysed_FRA_2019_PM25_avgannual_Ineris_v.Jan2024.nc\n",
      "Finished processing coordo_ineris function\n"
     ]
    },
    {
     "name": "stderr",
     "output_type": "stream",
     "text": [
      "C:\\Users\\aysharma\\anaconda3\\Lib\\site-packages\\numpy\\core\\fromnumeric.py:59: FutureWarning: 'GeoDataFrame.swapaxes' is deprecated and will be removed in a future version. Please use 'GeoDataFrame.transpose' instead.\n",
      "  return bound(*args, **kwds)\n",
      "C:\\Users\\aysharma\\anaconda3\\Lib\\site-packages\\numpy\\core\\fromnumeric.py:59: FutureWarning: 'GeoDataFrame.swapaxes' is deprecated and will be removed in a future version. Please use 'GeoDataFrame.transpose' instead.\n",
      "  return bound(*args, **kwds)\n",
      "C:\\Users\\aysharma\\anaconda3\\Lib\\site-packages\\numpy\\core\\fromnumeric.py:59: FutureWarning: 'GeoDataFrame.swapaxes' is deprecated and will be removed in a future version. Please use 'GeoDataFrame.transpose' instead.\n",
      "  return bound(*args, **kwds)\n",
      "C:\\Users\\aysharma\\anaconda3\\Lib\\site-packages\\numpy\\core\\fromnumeric.py:59: FutureWarning: 'GeoDataFrame.swapaxes' is deprecated and will be removed in a future version. Please use 'GeoDataFrame.transpose' instead.\n",
      "  return bound(*args, **kwds)\n",
      "C:\\Users\\aysharma\\anaconda3\\Lib\\site-packages\\numpy\\core\\fromnumeric.py:59: FutureWarning: 'GeoDataFrame.swapaxes' is deprecated and will be removed in a future version. Please use 'GeoDataFrame.transpose' instead.\n",
      "  return bound(*args, **kwds)\n",
      "C:\\Users\\aysharma\\Eqis_codes\\mortality_analysis_module.py:133: FutureWarning: Setting an item of incompatible dtype is deprecated and will raise an error in a future version of pandas. Value '16.90997244646745' has dtype incompatible with int64, please explicitly cast to a compatible dtype first.\n",
      "  donnees.loc[donnees['age'] == age, 'mort'] = mort\n",
      "C:\\Users\\aysharma\\Eqis_codes\\mortality_analysis_module.py:134: FutureWarning: Setting an item of incompatible dtype is deprecated and will raise an error in a future version of pandas. Value '0.00046335226785193317' has dtype incompatible with int64, please explicitly cast to a compatible dtype first.\n",
      "  donnees.loc[donnees['age'] == age, 'taux_initial'] = taux_initial\n",
      "C:\\Users\\aysharma\\Eqis_codes\\mortality_analysis_module.py:135: FutureWarning: Setting an item of incompatible dtype is deprecated and will raise an error in a future version of pandas. Value '0.0004403198206217331' has dtype incompatible with int64, please explicitly cast to a compatible dtype first.\n",
      "  donnees.loc[donnees['age'] == age, 'taux_corrige'] = taux_corrige\n",
      "C:\\Users\\aysharma\\Eqis_codes\\mortality_analysis_module.py:136: FutureWarning: Setting an item of incompatible dtype is deprecated and will raise an error in a future version of pandas. Value '913.1385121092422' has dtype incompatible with int64, please explicitly cast to a compatible dtype first.\n",
      "  donnees.loc[donnees['age'] == age, 'annees_gagnees'] = annees_gagnees\n"
     ]
    },
    {
     "name": "stdout",
     "output_type": "stream",
     "text": [
      "Concentrations in 2019 and 2030 are calculated for the pollutant ug_NO2 according to scenario s2.\n",
      "Starting coordo_ineris function\n",
      "Loading data from data/1-processed-data/SHERPA/conc-2019/Reanalysed_FRA_2019_NO2_avgannual_Ineris_v.Jan2024.nc\n",
      "Finished processing coordo_ineris function\n"
     ]
    },
    {
     "name": "stderr",
     "output_type": "stream",
     "text": [
      "C:\\Users\\aysharma\\anaconda3\\Lib\\site-packages\\numpy\\core\\fromnumeric.py:59: FutureWarning: 'GeoDataFrame.swapaxes' is deprecated and will be removed in a future version. Please use 'GeoDataFrame.transpose' instead.\n",
      "  return bound(*args, **kwds)\n",
      "C:\\Users\\aysharma\\anaconda3\\Lib\\site-packages\\numpy\\core\\fromnumeric.py:59: FutureWarning: 'GeoDataFrame.swapaxes' is deprecated and will be removed in a future version. Please use 'GeoDataFrame.transpose' instead.\n",
      "  return bound(*args, **kwds)\n",
      "C:\\Users\\aysharma\\anaconda3\\Lib\\site-packages\\numpy\\core\\fromnumeric.py:59: FutureWarning: 'GeoDataFrame.swapaxes' is deprecated and will be removed in a future version. Please use 'GeoDataFrame.transpose' instead.\n",
      "  return bound(*args, **kwds)\n",
      "C:\\Users\\aysharma\\anaconda3\\Lib\\site-packages\\numpy\\core\\fromnumeric.py:59: FutureWarning: 'GeoDataFrame.swapaxes' is deprecated and will be removed in a future version. Please use 'GeoDataFrame.transpose' instead.\n",
      "  return bound(*args, **kwds)\n",
      "C:\\Users\\aysharma\\anaconda3\\Lib\\site-packages\\numpy\\core\\fromnumeric.py:59: FutureWarning: 'GeoDataFrame.swapaxes' is deprecated and will be removed in a future version. Please use 'GeoDataFrame.transpose' instead.\n",
      "  return bound(*args, **kwds)\n",
      "C:\\Users\\aysharma\\Eqis_codes\\mortality_analysis_module.py:133: FutureWarning: Setting an item of incompatible dtype is deprecated and will raise an error in a future version of pandas. Value '1.337497509212565' has dtype incompatible with int64, please explicitly cast to a compatible dtype first.\n",
      "  donnees.loc[donnees['age'] == age, 'mort'] = mort\n",
      "C:\\Users\\aysharma\\Eqis_codes\\mortality_analysis_module.py:134: FutureWarning: Setting an item of incompatible dtype is deprecated and will raise an error in a future version of pandas. Value '0.00046335226785193317' has dtype incompatible with int64, please explicitly cast to a compatible dtype first.\n",
      "  donnees.loc[donnees['age'] == age, 'taux_initial'] = taux_initial\n",
      "C:\\Users\\aysharma\\Eqis_codes\\mortality_analysis_module.py:135: FutureWarning: Setting an item of incompatible dtype is deprecated and will raise an error in a future version of pandas. Value '0.000461530512027139' has dtype incompatible with int64, please explicitly cast to a compatible dtype first.\n",
      "  donnees.loc[donnees['age'] == age, 'taux_corrige'] = taux_corrige\n",
      "C:\\Users\\aysharma\\Eqis_codes\\mortality_analysis_module.py:136: FutureWarning: Setting an item of incompatible dtype is deprecated and will raise an error in a future version of pandas. Value '72.2248654974785' has dtype incompatible with int64, please explicitly cast to a compatible dtype first.\n",
      "  donnees.loc[donnees['age'] == age, 'annees_gagnees'] = annees_gagnees\n"
     ]
    },
    {
     "name": "stdout",
     "output_type": "stream",
     "text": [
      "Concentrations in 2019 and 2030 are calculated for the pollutant ug_NO2 according to scenario s2.\n",
      "Starting coordo_ineris function\n",
      "Loading data from data/1-processed-data/SHERPA/conc-2019/Reanalysed_FRA_2019_NO2_avgannual_Ineris_v.Jan2024.nc\n",
      "Finished processing coordo_ineris function\n"
     ]
    },
    {
     "name": "stderr",
     "output_type": "stream",
     "text": [
      "C:\\Users\\aysharma\\anaconda3\\Lib\\site-packages\\numpy\\core\\fromnumeric.py:59: FutureWarning: 'GeoDataFrame.swapaxes' is deprecated and will be removed in a future version. Please use 'GeoDataFrame.transpose' instead.\n",
      "  return bound(*args, **kwds)\n",
      "C:\\Users\\aysharma\\anaconda3\\Lib\\site-packages\\numpy\\core\\fromnumeric.py:59: FutureWarning: 'GeoDataFrame.swapaxes' is deprecated and will be removed in a future version. Please use 'GeoDataFrame.transpose' instead.\n",
      "  return bound(*args, **kwds)\n",
      "C:\\Users\\aysharma\\anaconda3\\Lib\\site-packages\\numpy\\core\\fromnumeric.py:59: FutureWarning: 'GeoDataFrame.swapaxes' is deprecated and will be removed in a future version. Please use 'GeoDataFrame.transpose' instead.\n",
      "  return bound(*args, **kwds)\n",
      "C:\\Users\\aysharma\\anaconda3\\Lib\\site-packages\\numpy\\core\\fromnumeric.py:59: FutureWarning: 'GeoDataFrame.swapaxes' is deprecated and will be removed in a future version. Please use 'GeoDataFrame.transpose' instead.\n",
      "  return bound(*args, **kwds)\n",
      "C:\\Users\\aysharma\\anaconda3\\Lib\\site-packages\\numpy\\core\\fromnumeric.py:59: FutureWarning: 'GeoDataFrame.swapaxes' is deprecated and will be removed in a future version. Please use 'GeoDataFrame.transpose' instead.\n",
      "  return bound(*args, **kwds)\n",
      "C:\\Users\\aysharma\\Eqis_codes\\mortality_analysis_module.py:133: FutureWarning: Setting an item of incompatible dtype is deprecated and will raise an error in a future version of pandas. Value '6.036283652015613' has dtype incompatible with int64, please explicitly cast to a compatible dtype first.\n",
      "  donnees.loc[donnees['age'] == age, 'mort'] = mort\n",
      "C:\\Users\\aysharma\\Eqis_codes\\mortality_analysis_module.py:134: FutureWarning: Setting an item of incompatible dtype is deprecated and will raise an error in a future version of pandas. Value '0.00046335226785193317' has dtype incompatible with int64, please explicitly cast to a compatible dtype first.\n",
      "  donnees.loc[donnees['age'] == age, 'taux_initial'] = taux_initial\n",
      "C:\\Users\\aysharma\\Eqis_codes\\mortality_analysis_module.py:135: FutureWarning: Setting an item of incompatible dtype is deprecated and will raise an error in a future version of pandas. Value '0.0004551304694355429' has dtype incompatible with int64, please explicitly cast to a compatible dtype first.\n",
      "  donnees.loc[donnees['age'] == age, 'taux_corrige'] = taux_corrige\n",
      "C:\\Users\\aysharma\\Eqis_codes\\mortality_analysis_module.py:136: FutureWarning: Setting an item of incompatible dtype is deprecated and will raise an error in a future version of pandas. Value '325.9593172088431' has dtype incompatible with int64, please explicitly cast to a compatible dtype first.\n",
      "  donnees.loc[donnees['age'] == age, 'annees_gagnees'] = annees_gagnees\n"
     ]
    },
    {
     "name": "stdout",
     "output_type": "stream",
     "text": [
      "Concentrations in 2019 and 2050 are calculated for the pollutant ug_PM25_RH50 according to scenario s2.\n",
      "Starting coordo_ineris function\n",
      "Loading data from data/1-processed-data/SHERPA/conc-2019/Reanalysed_FRA_2019_PM25_avgannual_Ineris_v.Jan2024.nc\n",
      "Finished processing coordo_ineris function\n"
     ]
    },
    {
     "name": "stderr",
     "output_type": "stream",
     "text": [
      "C:\\Users\\aysharma\\anaconda3\\Lib\\site-packages\\numpy\\core\\fromnumeric.py:59: FutureWarning: 'GeoDataFrame.swapaxes' is deprecated and will be removed in a future version. Please use 'GeoDataFrame.transpose' instead.\n",
      "  return bound(*args, **kwds)\n",
      "C:\\Users\\aysharma\\anaconda3\\Lib\\site-packages\\numpy\\core\\fromnumeric.py:59: FutureWarning: 'GeoDataFrame.swapaxes' is deprecated and will be removed in a future version. Please use 'GeoDataFrame.transpose' instead.\n",
      "  return bound(*args, **kwds)\n",
      "C:\\Users\\aysharma\\anaconda3\\Lib\\site-packages\\numpy\\core\\fromnumeric.py:59: FutureWarning: 'GeoDataFrame.swapaxes' is deprecated and will be removed in a future version. Please use 'GeoDataFrame.transpose' instead.\n",
      "  return bound(*args, **kwds)\n",
      "C:\\Users\\aysharma\\anaconda3\\Lib\\site-packages\\numpy\\core\\fromnumeric.py:59: FutureWarning: 'GeoDataFrame.swapaxes' is deprecated and will be removed in a future version. Please use 'GeoDataFrame.transpose' instead.\n",
      "  return bound(*args, **kwds)\n",
      "C:\\Users\\aysharma\\anaconda3\\Lib\\site-packages\\numpy\\core\\fromnumeric.py:59: FutureWarning: 'GeoDataFrame.swapaxes' is deprecated and will be removed in a future version. Please use 'GeoDataFrame.transpose' instead.\n",
      "  return bound(*args, **kwds)\n",
      "C:\\Users\\aysharma\\Eqis_codes\\mortality_analysis_module.py:133: FutureWarning: Setting an item of incompatible dtype is deprecated and will raise an error in a future version of pandas. Value '3.501188175734381' has dtype incompatible with int64, please explicitly cast to a compatible dtype first.\n",
      "  donnees.loc[donnees['age'] == age, 'mort'] = mort\n",
      "C:\\Users\\aysharma\\Eqis_codes\\mortality_analysis_module.py:134: FutureWarning: Setting an item of incompatible dtype is deprecated and will raise an error in a future version of pandas. Value '0.0002975735690330468' has dtype incompatible with int64, please explicitly cast to a compatible dtype first.\n",
      "  donnees.loc[donnees['age'] == age, 'taux_initial'] = taux_initial\n",
      "C:\\Users\\aysharma\\Eqis_codes\\mortality_analysis_module.py:135: FutureWarning: Setting an item of incompatible dtype is deprecated and will raise an error in a future version of pandas. Value '0.0002927127153914639' has dtype incompatible with int64, please explicitly cast to a compatible dtype first.\n",
      "  donnees.loc[donnees['age'] == age, 'taux_corrige'] = taux_corrige\n",
      "C:\\Users\\aysharma\\Eqis_codes\\mortality_analysis_module.py:136: FutureWarning: Setting an item of incompatible dtype is deprecated and will raise an error in a future version of pandas. Value '196.06653784112532' has dtype incompatible with int64, please explicitly cast to a compatible dtype first.\n",
      "  donnees.loc[donnees['age'] == age, 'annees_gagnees'] = annees_gagnees\n"
     ]
    },
    {
     "name": "stdout",
     "output_type": "stream",
     "text": [
      "Concentrations in 2019 and 2050 are calculated for the pollutant ug_PM25_RH50 according to scenario s2.\n",
      "Starting coordo_ineris function\n",
      "Loading data from data/1-processed-data/SHERPA/conc-2019/Reanalysed_FRA_2019_PM25_avgannual_Ineris_v.Jan2024.nc\n",
      "Finished processing coordo_ineris function\n"
     ]
    },
    {
     "name": "stderr",
     "output_type": "stream",
     "text": [
      "C:\\Users\\aysharma\\anaconda3\\Lib\\site-packages\\numpy\\core\\fromnumeric.py:59: FutureWarning: 'GeoDataFrame.swapaxes' is deprecated and will be removed in a future version. Please use 'GeoDataFrame.transpose' instead.\n",
      "  return bound(*args, **kwds)\n",
      "C:\\Users\\aysharma\\anaconda3\\Lib\\site-packages\\numpy\\core\\fromnumeric.py:59: FutureWarning: 'GeoDataFrame.swapaxes' is deprecated and will be removed in a future version. Please use 'GeoDataFrame.transpose' instead.\n",
      "  return bound(*args, **kwds)\n",
      "C:\\Users\\aysharma\\anaconda3\\Lib\\site-packages\\numpy\\core\\fromnumeric.py:59: FutureWarning: 'GeoDataFrame.swapaxes' is deprecated and will be removed in a future version. Please use 'GeoDataFrame.transpose' instead.\n",
      "  return bound(*args, **kwds)\n",
      "C:\\Users\\aysharma\\anaconda3\\Lib\\site-packages\\numpy\\core\\fromnumeric.py:59: FutureWarning: 'GeoDataFrame.swapaxes' is deprecated and will be removed in a future version. Please use 'GeoDataFrame.transpose' instead.\n",
      "  return bound(*args, **kwds)\n",
      "C:\\Users\\aysharma\\anaconda3\\Lib\\site-packages\\numpy\\core\\fromnumeric.py:59: FutureWarning: 'GeoDataFrame.swapaxes' is deprecated and will be removed in a future version. Please use 'GeoDataFrame.transpose' instead.\n",
      "  return bound(*args, **kwds)\n",
      "C:\\Users\\aysharma\\Eqis_codes\\mortality_analysis_module.py:133: FutureWarning: Setting an item of incompatible dtype is deprecated and will raise an error in a future version of pandas. Value '15.52492106910056' has dtype incompatible with int64, please explicitly cast to a compatible dtype first.\n",
      "  donnees.loc[donnees['age'] == age, 'mort'] = mort\n",
      "C:\\Users\\aysharma\\Eqis_codes\\mortality_analysis_module.py:134: FutureWarning: Setting an item of incompatible dtype is deprecated and will raise an error in a future version of pandas. Value '0.0002975735690330468' has dtype incompatible with int64, please explicitly cast to a compatible dtype first.\n",
      "  donnees.loc[donnees['age'] == age, 'taux_initial'] = taux_initial\n",
      "C:\\Users\\aysharma\\Eqis_codes\\mortality_analysis_module.py:135: FutureWarning: Setting an item of incompatible dtype is deprecated and will raise an error in a future version of pandas. Value '0.0002760196378170541' has dtype incompatible with int64, please explicitly cast to a compatible dtype first.\n",
      "  donnees.loc[donnees['age'] == age, 'taux_corrige'] = taux_corrige\n",
      "C:\\Users\\aysharma\\Eqis_codes\\mortality_analysis_module.py:136: FutureWarning: Setting an item of incompatible dtype is deprecated and will raise an error in a future version of pandas. Value '869.3955798696314' has dtype incompatible with int64, please explicitly cast to a compatible dtype first.\n",
      "  donnees.loc[donnees['age'] == age, 'annees_gagnees'] = annees_gagnees\n"
     ]
    },
    {
     "name": "stdout",
     "output_type": "stream",
     "text": [
      "Concentrations in 2019 and 2050 are calculated for the pollutant ug_NO2 according to scenario s2.\n",
      "Starting coordo_ineris function\n",
      "Loading data from data/1-processed-data/SHERPA/conc-2019/Reanalysed_FRA_2019_NO2_avgannual_Ineris_v.Jan2024.nc\n",
      "Finished processing coordo_ineris function\n"
     ]
    },
    {
     "name": "stderr",
     "output_type": "stream",
     "text": [
      "C:\\Users\\aysharma\\anaconda3\\Lib\\site-packages\\numpy\\core\\fromnumeric.py:59: FutureWarning: 'GeoDataFrame.swapaxes' is deprecated and will be removed in a future version. Please use 'GeoDataFrame.transpose' instead.\n",
      "  return bound(*args, **kwds)\n",
      "C:\\Users\\aysharma\\anaconda3\\Lib\\site-packages\\numpy\\core\\fromnumeric.py:59: FutureWarning: 'GeoDataFrame.swapaxes' is deprecated and will be removed in a future version. Please use 'GeoDataFrame.transpose' instead.\n",
      "  return bound(*args, **kwds)\n",
      "C:\\Users\\aysharma\\anaconda3\\Lib\\site-packages\\numpy\\core\\fromnumeric.py:59: FutureWarning: 'GeoDataFrame.swapaxes' is deprecated and will be removed in a future version. Please use 'GeoDataFrame.transpose' instead.\n",
      "  return bound(*args, **kwds)\n",
      "C:\\Users\\aysharma\\anaconda3\\Lib\\site-packages\\numpy\\core\\fromnumeric.py:59: FutureWarning: 'GeoDataFrame.swapaxes' is deprecated and will be removed in a future version. Please use 'GeoDataFrame.transpose' instead.\n",
      "  return bound(*args, **kwds)\n",
      "C:\\Users\\aysharma\\anaconda3\\Lib\\site-packages\\numpy\\core\\fromnumeric.py:59: FutureWarning: 'GeoDataFrame.swapaxes' is deprecated and will be removed in a future version. Please use 'GeoDataFrame.transpose' instead.\n",
      "  return bound(*args, **kwds)\n",
      "C:\\Users\\aysharma\\Eqis_codes\\mortality_analysis_module.py:133: FutureWarning: Setting an item of incompatible dtype is deprecated and will raise an error in a future version of pandas. Value '1.2316329582903356' has dtype incompatible with int64, please explicitly cast to a compatible dtype first.\n",
      "  donnees.loc[donnees['age'] == age, 'mort'] = mort\n",
      "C:\\Users\\aysharma\\Eqis_codes\\mortality_analysis_module.py:134: FutureWarning: Setting an item of incompatible dtype is deprecated and will raise an error in a future version of pandas. Value '0.0002975735690330468' has dtype incompatible with int64, please explicitly cast to a compatible dtype first.\n",
      "  donnees.loc[donnees['age'] == age, 'taux_initial'] = taux_initial\n",
      "C:\\Users\\aysharma\\Eqis_codes\\mortality_analysis_module.py:135: FutureWarning: Setting an item of incompatible dtype is deprecated and will raise an error in a future version of pandas. Value '0.0002958636387893965' has dtype incompatible with int64, please explicitly cast to a compatible dtype first.\n",
      "  donnees.loc[donnees['age'] == age, 'taux_corrige'] = taux_corrige\n",
      "C:\\Users\\aysharma\\Eqis_codes\\mortality_analysis_module.py:136: FutureWarning: Setting an item of incompatible dtype is deprecated and will raise an error in a future version of pandas. Value '68.9714456642588' has dtype incompatible with int64, please explicitly cast to a compatible dtype first.\n",
      "  donnees.loc[donnees['age'] == age, 'annees_gagnees'] = annees_gagnees\n"
     ]
    },
    {
     "name": "stdout",
     "output_type": "stream",
     "text": [
      "Concentrations in 2019 and 2050 are calculated for the pollutant ug_NO2 according to scenario s2.\n",
      "Starting coordo_ineris function\n",
      "Loading data from data/1-processed-data/SHERPA/conc-2019/Reanalysed_FRA_2019_NO2_avgannual_Ineris_v.Jan2024.nc\n",
      "Finished processing coordo_ineris function\n"
     ]
    },
    {
     "name": "stderr",
     "output_type": "stream",
     "text": [
      "C:\\Users\\aysharma\\anaconda3\\Lib\\site-packages\\numpy\\core\\fromnumeric.py:59: FutureWarning: 'GeoDataFrame.swapaxes' is deprecated and will be removed in a future version. Please use 'GeoDataFrame.transpose' instead.\n",
      "  return bound(*args, **kwds)\n",
      "C:\\Users\\aysharma\\anaconda3\\Lib\\site-packages\\numpy\\core\\fromnumeric.py:59: FutureWarning: 'GeoDataFrame.swapaxes' is deprecated and will be removed in a future version. Please use 'GeoDataFrame.transpose' instead.\n",
      "  return bound(*args, **kwds)\n",
      "C:\\Users\\aysharma\\anaconda3\\Lib\\site-packages\\numpy\\core\\fromnumeric.py:59: FutureWarning: 'GeoDataFrame.swapaxes' is deprecated and will be removed in a future version. Please use 'GeoDataFrame.transpose' instead.\n",
      "  return bound(*args, **kwds)\n",
      "C:\\Users\\aysharma\\anaconda3\\Lib\\site-packages\\numpy\\core\\fromnumeric.py:59: FutureWarning: 'GeoDataFrame.swapaxes' is deprecated and will be removed in a future version. Please use 'GeoDataFrame.transpose' instead.\n",
      "  return bound(*args, **kwds)\n",
      "C:\\Users\\aysharma\\anaconda3\\Lib\\site-packages\\numpy\\core\\fromnumeric.py:59: FutureWarning: 'GeoDataFrame.swapaxes' is deprecated and will be removed in a future version. Please use 'GeoDataFrame.transpose' instead.\n",
      "  return bound(*args, **kwds)\n",
      "C:\\Users\\aysharma\\Eqis_codes\\mortality_analysis_module.py:133: FutureWarning: Setting an item of incompatible dtype is deprecated and will raise an error in a future version of pandas. Value '5.533735742014978' has dtype incompatible with int64, please explicitly cast to a compatible dtype first.\n",
      "  donnees.loc[donnees['age'] == age, 'mort'] = mort\n",
      "C:\\Users\\aysharma\\Eqis_codes\\mortality_analysis_module.py:134: FutureWarning: Setting an item of incompatible dtype is deprecated and will raise an error in a future version of pandas. Value '0.0002975735690330468' has dtype incompatible with int64, please explicitly cast to a compatible dtype first.\n",
      "  donnees.loc[donnees['age'] == age, 'taux_initial'] = taux_initial\n",
      "C:\\Users\\aysharma\\Eqis_codes\\mortality_analysis_module.py:135: FutureWarning: Setting an item of incompatible dtype is deprecated and will raise an error in a future version of pandas. Value '0.0002898908401470196' has dtype incompatible with int64, please explicitly cast to a compatible dtype first.\n",
      "  donnees.loc[donnees['age'] == age, 'taux_corrige'] = taux_corrige\n",
      "C:\\Users\\aysharma\\Eqis_codes\\mortality_analysis_module.py:136: FutureWarning: Setting an item of incompatible dtype is deprecated and will raise an error in a future version of pandas. Value '309.8892015528388' has dtype incompatible with int64, please explicitly cast to a compatible dtype first.\n",
      "  donnees.loc[donnees['age'] == age, 'annees_gagnees'] = annees_gagnees\n"
     ]
    },
    {
     "name": "stdout",
     "output_type": "stream",
     "text": [
      "Concentrations in 2019 and 2030 are calculated for the pollutant ug_PM25_RH50 according to scenario s3.\n",
      "Starting coordo_ineris function\n",
      "Loading data from data/1-processed-data/SHERPA/conc-2019/Reanalysed_FRA_2019_PM25_avgannual_Ineris_v.Jan2024.nc\n",
      "Finished processing coordo_ineris function\n"
     ]
    },
    {
     "name": "stderr",
     "output_type": "stream",
     "text": [
      "C:\\Users\\aysharma\\anaconda3\\Lib\\site-packages\\numpy\\core\\fromnumeric.py:59: FutureWarning: 'GeoDataFrame.swapaxes' is deprecated and will be removed in a future version. Please use 'GeoDataFrame.transpose' instead.\n",
      "  return bound(*args, **kwds)\n",
      "C:\\Users\\aysharma\\anaconda3\\Lib\\site-packages\\numpy\\core\\fromnumeric.py:59: FutureWarning: 'GeoDataFrame.swapaxes' is deprecated and will be removed in a future version. Please use 'GeoDataFrame.transpose' instead.\n",
      "  return bound(*args, **kwds)\n",
      "C:\\Users\\aysharma\\anaconda3\\Lib\\site-packages\\numpy\\core\\fromnumeric.py:59: FutureWarning: 'GeoDataFrame.swapaxes' is deprecated and will be removed in a future version. Please use 'GeoDataFrame.transpose' instead.\n",
      "  return bound(*args, **kwds)\n",
      "C:\\Users\\aysharma\\anaconda3\\Lib\\site-packages\\numpy\\core\\fromnumeric.py:59: FutureWarning: 'GeoDataFrame.swapaxes' is deprecated and will be removed in a future version. Please use 'GeoDataFrame.transpose' instead.\n",
      "  return bound(*args, **kwds)\n",
      "C:\\Users\\aysharma\\anaconda3\\Lib\\site-packages\\numpy\\core\\fromnumeric.py:59: FutureWarning: 'GeoDataFrame.swapaxes' is deprecated and will be removed in a future version. Please use 'GeoDataFrame.transpose' instead.\n",
      "  return bound(*args, **kwds)\n",
      "C:\\Users\\aysharma\\Eqis_codes\\mortality_analysis_module.py:133: FutureWarning: Setting an item of incompatible dtype is deprecated and will raise an error in a future version of pandas. Value '3.549041889745136' has dtype incompatible with int64, please explicitly cast to a compatible dtype first.\n",
      "  donnees.loc[donnees['age'] == age, 'mort'] = mort\n",
      "C:\\Users\\aysharma\\Eqis_codes\\mortality_analysis_module.py:134: FutureWarning: Setting an item of incompatible dtype is deprecated and will raise an error in a future version of pandas. Value '0.00046335226785193317' has dtype incompatible with int64, please explicitly cast to a compatible dtype first.\n",
      "  donnees.loc[donnees['age'] == age, 'taux_initial'] = taux_initial\n",
      "C:\\Users\\aysharma\\Eqis_codes\\mortality_analysis_module.py:135: FutureWarning: Setting an item of incompatible dtype is deprecated and will raise an error in a future version of pandas. Value '0.00045851824932812416' has dtype incompatible with int64, please explicitly cast to a compatible dtype first.\n",
      "  donnees.loc[donnees['age'] == age, 'taux_corrige'] = taux_corrige\n",
      "C:\\Users\\aysharma\\Eqis_codes\\mortality_analysis_module.py:136: FutureWarning: Setting an item of incompatible dtype is deprecated and will raise an error in a future version of pandas. Value '191.64826204623736' has dtype incompatible with int64, please explicitly cast to a compatible dtype first.\n",
      "  donnees.loc[donnees['age'] == age, 'annees_gagnees'] = annees_gagnees\n"
     ]
    },
    {
     "name": "stdout",
     "output_type": "stream",
     "text": [
      "Concentrations in 2019 and 2030 are calculated for the pollutant ug_PM25_RH50 according to scenario s3.\n",
      "Starting coordo_ineris function\n",
      "Loading data from data/1-processed-data/SHERPA/conc-2019/Reanalysed_FRA_2019_PM25_avgannual_Ineris_v.Jan2024.nc\n",
      "Finished processing coordo_ineris function\n"
     ]
    },
    {
     "name": "stderr",
     "output_type": "stream",
     "text": [
      "C:\\Users\\aysharma\\anaconda3\\Lib\\site-packages\\numpy\\core\\fromnumeric.py:59: FutureWarning: 'GeoDataFrame.swapaxes' is deprecated and will be removed in a future version. Please use 'GeoDataFrame.transpose' instead.\n",
      "  return bound(*args, **kwds)\n",
      "C:\\Users\\aysharma\\anaconda3\\Lib\\site-packages\\numpy\\core\\fromnumeric.py:59: FutureWarning: 'GeoDataFrame.swapaxes' is deprecated and will be removed in a future version. Please use 'GeoDataFrame.transpose' instead.\n",
      "  return bound(*args, **kwds)\n",
      "C:\\Users\\aysharma\\anaconda3\\Lib\\site-packages\\numpy\\core\\fromnumeric.py:59: FutureWarning: 'GeoDataFrame.swapaxes' is deprecated and will be removed in a future version. Please use 'GeoDataFrame.transpose' instead.\n",
      "  return bound(*args, **kwds)\n",
      "C:\\Users\\aysharma\\anaconda3\\Lib\\site-packages\\numpy\\core\\fromnumeric.py:59: FutureWarning: 'GeoDataFrame.swapaxes' is deprecated and will be removed in a future version. Please use 'GeoDataFrame.transpose' instead.\n",
      "  return bound(*args, **kwds)\n",
      "C:\\Users\\aysharma\\anaconda3\\Lib\\site-packages\\numpy\\core\\fromnumeric.py:59: FutureWarning: 'GeoDataFrame.swapaxes' is deprecated and will be removed in a future version. Please use 'GeoDataFrame.transpose' instead.\n",
      "  return bound(*args, **kwds)\n",
      "C:\\Users\\aysharma\\Eqis_codes\\mortality_analysis_module.py:133: FutureWarning: Setting an item of incompatible dtype is deprecated and will raise an error in a future version of pandas. Value '15.913613918023696' has dtype incompatible with int64, please explicitly cast to a compatible dtype first.\n",
      "  donnees.loc[donnees['age'] == age, 'mort'] = mort\n",
      "C:\\Users\\aysharma\\Eqis_codes\\mortality_analysis_module.py:134: FutureWarning: Setting an item of incompatible dtype is deprecated and will raise an error in a future version of pandas. Value '0.00046335226785193317' has dtype incompatible with int64, please explicitly cast to a compatible dtype first.\n",
      "  donnees.loc[donnees['age'] == age, 'taux_initial'] = taux_initial\n",
      "C:\\Users\\aysharma\\Eqis_codes\\mortality_analysis_module.py:135: FutureWarning: Setting an item of incompatible dtype is deprecated and will raise an error in a future version of pandas. Value '0.00044167692367446656' has dtype incompatible with int64, please explicitly cast to a compatible dtype first.\n",
      "  donnees.loc[donnees['age'] == age, 'taux_corrige'] = taux_corrige\n",
      "C:\\Users\\aysharma\\Eqis_codes\\mortality_analysis_module.py:136: FutureWarning: Setting an item of incompatible dtype is deprecated and will raise an error in a future version of pandas. Value '859.3351515732796' has dtype incompatible with int64, please explicitly cast to a compatible dtype first.\n",
      "  donnees.loc[donnees['age'] == age, 'annees_gagnees'] = annees_gagnees\n"
     ]
    },
    {
     "name": "stdout",
     "output_type": "stream",
     "text": [
      "Concentrations in 2019 and 2030 are calculated for the pollutant ug_NO2 according to scenario s3.\n",
      "Starting coordo_ineris function\n",
      "Loading data from data/1-processed-data/SHERPA/conc-2019/Reanalysed_FRA_2019_NO2_avgannual_Ineris_v.Jan2024.nc\n",
      "Finished processing coordo_ineris function\n"
     ]
    },
    {
     "name": "stderr",
     "output_type": "stream",
     "text": [
      "C:\\Users\\aysharma\\anaconda3\\Lib\\site-packages\\numpy\\core\\fromnumeric.py:59: FutureWarning: 'GeoDataFrame.swapaxes' is deprecated and will be removed in a future version. Please use 'GeoDataFrame.transpose' instead.\n",
      "  return bound(*args, **kwds)\n",
      "C:\\Users\\aysharma\\anaconda3\\Lib\\site-packages\\numpy\\core\\fromnumeric.py:59: FutureWarning: 'GeoDataFrame.swapaxes' is deprecated and will be removed in a future version. Please use 'GeoDataFrame.transpose' instead.\n",
      "  return bound(*args, **kwds)\n",
      "C:\\Users\\aysharma\\anaconda3\\Lib\\site-packages\\numpy\\core\\fromnumeric.py:59: FutureWarning: 'GeoDataFrame.swapaxes' is deprecated and will be removed in a future version. Please use 'GeoDataFrame.transpose' instead.\n",
      "  return bound(*args, **kwds)\n",
      "C:\\Users\\aysharma\\anaconda3\\Lib\\site-packages\\numpy\\core\\fromnumeric.py:59: FutureWarning: 'GeoDataFrame.swapaxes' is deprecated and will be removed in a future version. Please use 'GeoDataFrame.transpose' instead.\n",
      "  return bound(*args, **kwds)\n",
      "C:\\Users\\aysharma\\anaconda3\\Lib\\site-packages\\numpy\\core\\fromnumeric.py:59: FutureWarning: 'GeoDataFrame.swapaxes' is deprecated and will be removed in a future version. Please use 'GeoDataFrame.transpose' instead.\n",
      "  return bound(*args, **kwds)\n",
      "C:\\Users\\aysharma\\Eqis_codes\\mortality_analysis_module.py:133: FutureWarning: Setting an item of incompatible dtype is deprecated and will raise an error in a future version of pandas. Value '1.1795957632260188' has dtype incompatible with int64, please explicitly cast to a compatible dtype first.\n",
      "  donnees.loc[donnees['age'] == age, 'mort'] = mort\n",
      "C:\\Users\\aysharma\\Eqis_codes\\mortality_analysis_module.py:134: FutureWarning: Setting an item of incompatible dtype is deprecated and will raise an error in a future version of pandas. Value '0.00046335226785193317' has dtype incompatible with int64, please explicitly cast to a compatible dtype first.\n",
      "  donnees.loc[donnees['age'] == age, 'taux_initial'] = taux_initial\n",
      "C:\\Users\\aysharma\\Eqis_codes\\mortality_analysis_module.py:135: FutureWarning: Setting an item of incompatible dtype is deprecated and will raise an error in a future version of pandas. Value '0.00046174558414765863' has dtype incompatible with int64, please explicitly cast to a compatible dtype first.\n",
      "  donnees.loc[donnees['age'] == age, 'taux_corrige'] = taux_corrige\n",
      "C:\\Users\\aysharma\\Eqis_codes\\mortality_analysis_module.py:136: FutureWarning: Setting an item of incompatible dtype is deprecated and will raise an error in a future version of pandas. Value '63.69817121420501' has dtype incompatible with int64, please explicitly cast to a compatible dtype first.\n",
      "  donnees.loc[donnees['age'] == age, 'annees_gagnees'] = annees_gagnees\n"
     ]
    },
    {
     "name": "stdout",
     "output_type": "stream",
     "text": [
      "Concentrations in 2019 and 2030 are calculated for the pollutant ug_NO2 according to scenario s3.\n",
      "Starting coordo_ineris function\n",
      "Loading data from data/1-processed-data/SHERPA/conc-2019/Reanalysed_FRA_2019_NO2_avgannual_Ineris_v.Jan2024.nc\n",
      "Finished processing coordo_ineris function\n"
     ]
    },
    {
     "name": "stderr",
     "output_type": "stream",
     "text": [
      "C:\\Users\\aysharma\\anaconda3\\Lib\\site-packages\\numpy\\core\\fromnumeric.py:59: FutureWarning: 'GeoDataFrame.swapaxes' is deprecated and will be removed in a future version. Please use 'GeoDataFrame.transpose' instead.\n",
      "  return bound(*args, **kwds)\n",
      "C:\\Users\\aysharma\\anaconda3\\Lib\\site-packages\\numpy\\core\\fromnumeric.py:59: FutureWarning: 'GeoDataFrame.swapaxes' is deprecated and will be removed in a future version. Please use 'GeoDataFrame.transpose' instead.\n",
      "  return bound(*args, **kwds)\n",
      "C:\\Users\\aysharma\\anaconda3\\Lib\\site-packages\\numpy\\core\\fromnumeric.py:59: FutureWarning: 'GeoDataFrame.swapaxes' is deprecated and will be removed in a future version. Please use 'GeoDataFrame.transpose' instead.\n",
      "  return bound(*args, **kwds)\n",
      "C:\\Users\\aysharma\\anaconda3\\Lib\\site-packages\\numpy\\core\\fromnumeric.py:59: FutureWarning: 'GeoDataFrame.swapaxes' is deprecated and will be removed in a future version. Please use 'GeoDataFrame.transpose' instead.\n",
      "  return bound(*args, **kwds)\n",
      "C:\\Users\\aysharma\\anaconda3\\Lib\\site-packages\\numpy\\core\\fromnumeric.py:59: FutureWarning: 'GeoDataFrame.swapaxes' is deprecated and will be removed in a future version. Please use 'GeoDataFrame.transpose' instead.\n",
      "  return bound(*args, **kwds)\n",
      "C:\\Users\\aysharma\\Eqis_codes\\mortality_analysis_module.py:133: FutureWarning: Setting an item of incompatible dtype is deprecated and will raise an error in a future version of pandas. Value '5.329790508021172' has dtype incompatible with int64, please explicitly cast to a compatible dtype first.\n",
      "  donnees.loc[donnees['age'] == age, 'mort'] = mort\n",
      "C:\\Users\\aysharma\\Eqis_codes\\mortality_analysis_module.py:134: FutureWarning: Setting an item of incompatible dtype is deprecated and will raise an error in a future version of pandas. Value '0.00046335226785193317' has dtype incompatible with int64, please explicitly cast to a compatible dtype first.\n",
      "  donnees.loc[donnees['age'] == age, 'taux_initial'] = taux_initial\n",
      "C:\\Users\\aysharma\\Eqis_codes\\mortality_analysis_module.py:135: FutureWarning: Setting an item of incompatible dtype is deprecated and will raise an error in a future version of pandas. Value '0.00045609275758291064' has dtype incompatible with int64, please explicitly cast to a compatible dtype first.\n",
      "  donnees.loc[donnees['age'] == age, 'taux_corrige'] = taux_corrige\n",
      "C:\\Users\\aysharma\\Eqis_codes\\mortality_analysis_module.py:136: FutureWarning: Setting an item of incompatible dtype is deprecated and will raise an error in a future version of pandas. Value '287.8086874331433' has dtype incompatible with int64, please explicitly cast to a compatible dtype first.\n",
      "  donnees.loc[donnees['age'] == age, 'annees_gagnees'] = annees_gagnees\n"
     ]
    },
    {
     "name": "stdout",
     "output_type": "stream",
     "text": [
      "Concentrations in 2019 and 2050 are calculated for the pollutant ug_PM25_RH50 according to scenario s3.\n",
      "Starting coordo_ineris function\n",
      "Loading data from data/1-processed-data/SHERPA/conc-2019/Reanalysed_FRA_2019_PM25_avgannual_Ineris_v.Jan2024.nc\n",
      "Finished processing coordo_ineris function\n"
     ]
    },
    {
     "name": "stderr",
     "output_type": "stream",
     "text": [
      "C:\\Users\\aysharma\\anaconda3\\Lib\\site-packages\\numpy\\core\\fromnumeric.py:59: FutureWarning: 'GeoDataFrame.swapaxes' is deprecated and will be removed in a future version. Please use 'GeoDataFrame.transpose' instead.\n",
      "  return bound(*args, **kwds)\n",
      "C:\\Users\\aysharma\\anaconda3\\Lib\\site-packages\\numpy\\core\\fromnumeric.py:59: FutureWarning: 'GeoDataFrame.swapaxes' is deprecated and will be removed in a future version. Please use 'GeoDataFrame.transpose' instead.\n",
      "  return bound(*args, **kwds)\n",
      "C:\\Users\\aysharma\\anaconda3\\Lib\\site-packages\\numpy\\core\\fromnumeric.py:59: FutureWarning: 'GeoDataFrame.swapaxes' is deprecated and will be removed in a future version. Please use 'GeoDataFrame.transpose' instead.\n",
      "  return bound(*args, **kwds)\n",
      "C:\\Users\\aysharma\\anaconda3\\Lib\\site-packages\\numpy\\core\\fromnumeric.py:59: FutureWarning: 'GeoDataFrame.swapaxes' is deprecated and will be removed in a future version. Please use 'GeoDataFrame.transpose' instead.\n",
      "  return bound(*args, **kwds)\n",
      "C:\\Users\\aysharma\\anaconda3\\Lib\\site-packages\\numpy\\core\\fromnumeric.py:59: FutureWarning: 'GeoDataFrame.swapaxes' is deprecated and will be removed in a future version. Please use 'GeoDataFrame.transpose' instead.\n",
      "  return bound(*args, **kwds)\n",
      "C:\\Users\\aysharma\\Eqis_codes\\mortality_analysis_module.py:133: FutureWarning: Setting an item of incompatible dtype is deprecated and will raise an error in a future version of pandas. Value '3.3353554290427363' has dtype incompatible with int64, please explicitly cast to a compatible dtype first.\n",
      "  donnees.loc[donnees['age'] == age, 'mort'] = mort\n",
      "C:\\Users\\aysharma\\Eqis_codes\\mortality_analysis_module.py:134: FutureWarning: Setting an item of incompatible dtype is deprecated and will raise an error in a future version of pandas. Value '0.0002975735690330468' has dtype incompatible with int64, please explicitly cast to a compatible dtype first.\n",
      "  donnees.loc[donnees['age'] == age, 'taux_initial'] = taux_initial\n",
      "C:\\Users\\aysharma\\Eqis_codes\\mortality_analysis_module.py:135: FutureWarning: Setting an item of incompatible dtype is deprecated and will raise an error in a future version of pandas. Value '0.0002929429482924648' has dtype incompatible with int64, please explicitly cast to a compatible dtype first.\n",
      "  donnees.loc[donnees['age'] == age, 'taux_corrige'] = taux_corrige\n",
      "C:\\Users\\aysharma\\Eqis_codes\\mortality_analysis_module.py:136: FutureWarning: Setting an item of incompatible dtype is deprecated and will raise an error in a future version of pandas. Value '186.77990402639324' has dtype incompatible with int64, please explicitly cast to a compatible dtype first.\n",
      "  donnees.loc[donnees['age'] == age, 'annees_gagnees'] = annees_gagnees\n"
     ]
    },
    {
     "name": "stdout",
     "output_type": "stream",
     "text": [
      "Concentrations in 2019 and 2050 are calculated for the pollutant ug_PM25_RH50 according to scenario s3.\n",
      "Starting coordo_ineris function\n",
      "Loading data from data/1-processed-data/SHERPA/conc-2019/Reanalysed_FRA_2019_PM25_avgannual_Ineris_v.Jan2024.nc\n",
      "Finished processing coordo_ineris function\n"
     ]
    },
    {
     "name": "stderr",
     "output_type": "stream",
     "text": [
      "C:\\Users\\aysharma\\anaconda3\\Lib\\site-packages\\numpy\\core\\fromnumeric.py:59: FutureWarning: 'GeoDataFrame.swapaxes' is deprecated and will be removed in a future version. Please use 'GeoDataFrame.transpose' instead.\n",
      "  return bound(*args, **kwds)\n",
      "C:\\Users\\aysharma\\anaconda3\\Lib\\site-packages\\numpy\\core\\fromnumeric.py:59: FutureWarning: 'GeoDataFrame.swapaxes' is deprecated and will be removed in a future version. Please use 'GeoDataFrame.transpose' instead.\n",
      "  return bound(*args, **kwds)\n",
      "C:\\Users\\aysharma\\anaconda3\\Lib\\site-packages\\numpy\\core\\fromnumeric.py:59: FutureWarning: 'GeoDataFrame.swapaxes' is deprecated and will be removed in a future version. Please use 'GeoDataFrame.transpose' instead.\n",
      "  return bound(*args, **kwds)\n",
      "C:\\Users\\aysharma\\anaconda3\\Lib\\site-packages\\numpy\\core\\fromnumeric.py:59: FutureWarning: 'GeoDataFrame.swapaxes' is deprecated and will be removed in a future version. Please use 'GeoDataFrame.transpose' instead.\n",
      "  return bound(*args, **kwds)\n",
      "C:\\Users\\aysharma\\anaconda3\\Lib\\site-packages\\numpy\\core\\fromnumeric.py:59: FutureWarning: 'GeoDataFrame.swapaxes' is deprecated and will be removed in a future version. Please use 'GeoDataFrame.transpose' instead.\n",
      "  return bound(*args, **kwds)\n",
      "C:\\Users\\aysharma\\Eqis_codes\\mortality_analysis_module.py:133: FutureWarning: Setting an item of incompatible dtype is deprecated and will raise an error in a future version of pandas. Value '14.811916797960272' has dtype incompatible with int64, please explicitly cast to a compatible dtype first.\n",
      "  donnees.loc[donnees['age'] == age, 'mort'] = mort\n",
      "C:\\Users\\aysharma\\Eqis_codes\\mortality_analysis_module.py:134: FutureWarning: Setting an item of incompatible dtype is deprecated and will raise an error in a future version of pandas. Value '0.0002975735690330468' has dtype incompatible with int64, please explicitly cast to a compatible dtype first.\n",
      "  donnees.loc[donnees['age'] == age, 'taux_initial'] = taux_initial\n",
      "C:\\Users\\aysharma\\Eqis_codes\\mortality_analysis_module.py:135: FutureWarning: Setting an item of incompatible dtype is deprecated and will raise an error in a future version of pandas. Value '0.00027700953302801625' has dtype incompatible with int64, please explicitly cast to a compatible dtype first.\n",
      "  donnees.loc[donnees['age'] == age, 'taux_corrige'] = taux_corrige\n",
      "C:\\Users\\aysharma\\Eqis_codes\\mortality_analysis_module.py:136: FutureWarning: Setting an item of incompatible dtype is deprecated and will raise an error in a future version of pandas. Value '829.4673406857753' has dtype incompatible with int64, please explicitly cast to a compatible dtype first.\n",
      "  donnees.loc[donnees['age'] == age, 'annees_gagnees'] = annees_gagnees\n"
     ]
    },
    {
     "name": "stdout",
     "output_type": "stream",
     "text": [
      "Concentrations in 2019 and 2050 are calculated for the pollutant ug_NO2 according to scenario s3.\n",
      "Starting coordo_ineris function\n",
      "Loading data from data/1-processed-data/SHERPA/conc-2019/Reanalysed_FRA_2019_NO2_avgannual_Ineris_v.Jan2024.nc\n",
      "Finished processing coordo_ineris function\n"
     ]
    },
    {
     "name": "stderr",
     "output_type": "stream",
     "text": [
      "C:\\Users\\aysharma\\anaconda3\\Lib\\site-packages\\numpy\\core\\fromnumeric.py:59: FutureWarning: 'GeoDataFrame.swapaxes' is deprecated and will be removed in a future version. Please use 'GeoDataFrame.transpose' instead.\n",
      "  return bound(*args, **kwds)\n",
      "C:\\Users\\aysharma\\anaconda3\\Lib\\site-packages\\numpy\\core\\fromnumeric.py:59: FutureWarning: 'GeoDataFrame.swapaxes' is deprecated and will be removed in a future version. Please use 'GeoDataFrame.transpose' instead.\n",
      "  return bound(*args, **kwds)\n",
      "C:\\Users\\aysharma\\anaconda3\\Lib\\site-packages\\numpy\\core\\fromnumeric.py:59: FutureWarning: 'GeoDataFrame.swapaxes' is deprecated and will be removed in a future version. Please use 'GeoDataFrame.transpose' instead.\n",
      "  return bound(*args, **kwds)\n",
      "C:\\Users\\aysharma\\anaconda3\\Lib\\site-packages\\numpy\\core\\fromnumeric.py:59: FutureWarning: 'GeoDataFrame.swapaxes' is deprecated and will be removed in a future version. Please use 'GeoDataFrame.transpose' instead.\n",
      "  return bound(*args, **kwds)\n",
      "C:\\Users\\aysharma\\anaconda3\\Lib\\site-packages\\numpy\\core\\fromnumeric.py:59: FutureWarning: 'GeoDataFrame.swapaxes' is deprecated and will be removed in a future version. Please use 'GeoDataFrame.transpose' instead.\n",
      "  return bound(*args, **kwds)\n",
      "C:\\Users\\aysharma\\Eqis_codes\\mortality_analysis_module.py:133: FutureWarning: Setting an item of incompatible dtype is deprecated and will raise an error in a future version of pandas. Value '1.1985079888793186' has dtype incompatible with int64, please explicitly cast to a compatible dtype first.\n",
      "  donnees.loc[donnees['age'] == age, 'mort'] = mort\n",
      "C:\\Users\\aysharma\\Eqis_codes\\mortality_analysis_module.py:134: FutureWarning: Setting an item of incompatible dtype is deprecated and will raise an error in a future version of pandas. Value '0.0002975735690330468' has dtype incompatible with int64, please explicitly cast to a compatible dtype first.\n",
      "  donnees.loc[donnees['age'] == age, 'taux_initial'] = taux_initial\n",
      "C:\\Users\\aysharma\\Eqis_codes\\mortality_analysis_module.py:135: FutureWarning: Setting an item of incompatible dtype is deprecated and will raise an error in a future version of pandas. Value '0.0002959096276423535' has dtype incompatible with int64, please explicitly cast to a compatible dtype first.\n",
      "  donnees.loc[donnees['age'] == age, 'taux_corrige'] = taux_corrige\n",
      "C:\\Users\\aysharma\\Eqis_codes\\mortality_analysis_module.py:136: FutureWarning: Setting an item of incompatible dtype is deprecated and will raise an error in a future version of pandas. Value '67.11644737724184' has dtype incompatible with int64, please explicitly cast to a compatible dtype first.\n",
      "  donnees.loc[donnees['age'] == age, 'annees_gagnees'] = annees_gagnees\n"
     ]
    },
    {
     "name": "stdout",
     "output_type": "stream",
     "text": [
      "Concentrations in 2019 and 2050 are calculated for the pollutant ug_NO2 according to scenario s3.\n",
      "Starting coordo_ineris function\n",
      "Loading data from data/1-processed-data/SHERPA/conc-2019/Reanalysed_FRA_2019_NO2_avgannual_Ineris_v.Jan2024.nc\n",
      "Finished processing coordo_ineris function\n"
     ]
    },
    {
     "name": "stderr",
     "output_type": "stream",
     "text": [
      "C:\\Users\\aysharma\\anaconda3\\Lib\\site-packages\\numpy\\core\\fromnumeric.py:59: FutureWarning: 'GeoDataFrame.swapaxes' is deprecated and will be removed in a future version. Please use 'GeoDataFrame.transpose' instead.\n",
      "  return bound(*args, **kwds)\n",
      "C:\\Users\\aysharma\\anaconda3\\Lib\\site-packages\\numpy\\core\\fromnumeric.py:59: FutureWarning: 'GeoDataFrame.swapaxes' is deprecated and will be removed in a future version. Please use 'GeoDataFrame.transpose' instead.\n",
      "  return bound(*args, **kwds)\n",
      "C:\\Users\\aysharma\\anaconda3\\Lib\\site-packages\\numpy\\core\\fromnumeric.py:59: FutureWarning: 'GeoDataFrame.swapaxes' is deprecated and will be removed in a future version. Please use 'GeoDataFrame.transpose' instead.\n",
      "  return bound(*args, **kwds)\n",
      "C:\\Users\\aysharma\\anaconda3\\Lib\\site-packages\\numpy\\core\\fromnumeric.py:59: FutureWarning: 'GeoDataFrame.swapaxes' is deprecated and will be removed in a future version. Please use 'GeoDataFrame.transpose' instead.\n",
      "  return bound(*args, **kwds)\n",
      "C:\\Users\\aysharma\\anaconda3\\Lib\\site-packages\\numpy\\core\\fromnumeric.py:59: FutureWarning: 'GeoDataFrame.swapaxes' is deprecated and will be removed in a future version. Please use 'GeoDataFrame.transpose' instead.\n",
      "  return bound(*args, **kwds)\n",
      "C:\\Users\\aysharma\\Eqis_codes\\mortality_analysis_module.py:133: FutureWarning: Setting an item of incompatible dtype is deprecated and will raise an error in a future version of pandas. Value '5.3876222853353' has dtype incompatible with int64, please explicitly cast to a compatible dtype first.\n",
      "  donnees.loc[donnees['age'] == age, 'mort'] = mort\n",
      "C:\\Users\\aysharma\\Eqis_codes\\mortality_analysis_module.py:134: FutureWarning: Setting an item of incompatible dtype is deprecated and will raise an error in a future version of pandas. Value '0.0002975735690330468' has dtype incompatible with int64, please explicitly cast to a compatible dtype first.\n",
      "  donnees.loc[donnees['age'] == age, 'taux_initial'] = taux_initial\n",
      "C:\\Users\\aysharma\\Eqis_codes\\mortality_analysis_module.py:135: FutureWarning: Setting an item of incompatible dtype is deprecated and will raise an error in a future version of pandas. Value '0.00029009369588979517' has dtype incompatible with int64, please explicitly cast to a compatible dtype first.\n",
      "  donnees.loc[donnees['age'] == age, 'taux_corrige'] = taux_corrige\n",
      "C:\\Users\\aysharma\\Eqis_codes\\mortality_analysis_module.py:136: FutureWarning: Setting an item of incompatible dtype is deprecated and will raise an error in a future version of pandas. Value '301.7068479787768' has dtype incompatible with int64, please explicitly cast to a compatible dtype first.\n",
      "  donnees.loc[donnees['age'] == age, 'annees_gagnees'] = annees_gagnees\n"
     ]
    },
    {
     "name": "stdout",
     "output_type": "stream",
     "text": [
      "Concentrations in 2019 and 2030 are calculated for the pollutant ug_PM25_RH50 according to scenario s4.\n",
      "Starting coordo_ineris function\n",
      "Loading data from data/1-processed-data/SHERPA/conc-2019/Reanalysed_FRA_2019_PM25_avgannual_Ineris_v.Jan2024.nc\n",
      "Finished processing coordo_ineris function\n"
     ]
    },
    {
     "name": "stderr",
     "output_type": "stream",
     "text": [
      "C:\\Users\\aysharma\\anaconda3\\Lib\\site-packages\\numpy\\core\\fromnumeric.py:59: FutureWarning: 'GeoDataFrame.swapaxes' is deprecated and will be removed in a future version. Please use 'GeoDataFrame.transpose' instead.\n",
      "  return bound(*args, **kwds)\n",
      "C:\\Users\\aysharma\\anaconda3\\Lib\\site-packages\\numpy\\core\\fromnumeric.py:59: FutureWarning: 'GeoDataFrame.swapaxes' is deprecated and will be removed in a future version. Please use 'GeoDataFrame.transpose' instead.\n",
      "  return bound(*args, **kwds)\n",
      "C:\\Users\\aysharma\\anaconda3\\Lib\\site-packages\\numpy\\core\\fromnumeric.py:59: FutureWarning: 'GeoDataFrame.swapaxes' is deprecated and will be removed in a future version. Please use 'GeoDataFrame.transpose' instead.\n",
      "  return bound(*args, **kwds)\n",
      "C:\\Users\\aysharma\\anaconda3\\Lib\\site-packages\\numpy\\core\\fromnumeric.py:59: FutureWarning: 'GeoDataFrame.swapaxes' is deprecated and will be removed in a future version. Please use 'GeoDataFrame.transpose' instead.\n",
      "  return bound(*args, **kwds)\n",
      "C:\\Users\\aysharma\\anaconda3\\Lib\\site-packages\\numpy\\core\\fromnumeric.py:59: FutureWarning: 'GeoDataFrame.swapaxes' is deprecated and will be removed in a future version. Please use 'GeoDataFrame.transpose' instead.\n",
      "  return bound(*args, **kwds)\n",
      "C:\\Users\\aysharma\\Eqis_codes\\mortality_analysis_module.py:133: FutureWarning: Setting an item of incompatible dtype is deprecated and will raise an error in a future version of pandas. Value '3.46113391169893' has dtype incompatible with int64, please explicitly cast to a compatible dtype first.\n",
      "  donnees.loc[donnees['age'] == age, 'mort'] = mort\n",
      "C:\\Users\\aysharma\\Eqis_codes\\mortality_analysis_module.py:134: FutureWarning: Setting an item of incompatible dtype is deprecated and will raise an error in a future version of pandas. Value '0.00046335226785193317' has dtype incompatible with int64, please explicitly cast to a compatible dtype first.\n",
      "  donnees.loc[donnees['age'] == age, 'taux_initial'] = taux_initial\n",
      "C:\\Users\\aysharma\\Eqis_codes\\mortality_analysis_module.py:135: FutureWarning: Setting an item of incompatible dtype is deprecated and will raise an error in a future version of pandas. Value '0.00045863798552946166' has dtype incompatible with int64, please explicitly cast to a compatible dtype first.\n",
      "  donnees.loc[donnees['age'] == age, 'taux_corrige'] = taux_corrige\n",
      "C:\\Users\\aysharma\\Eqis_codes\\mortality_analysis_module.py:136: FutureWarning: Setting an item of incompatible dtype is deprecated and will raise an error in a future version of pandas. Value '186.9012312317422' has dtype incompatible with int64, please explicitly cast to a compatible dtype first.\n",
      "  donnees.loc[donnees['age'] == age, 'annees_gagnees'] = annees_gagnees\n"
     ]
    },
    {
     "name": "stdout",
     "output_type": "stream",
     "text": [
      "Concentrations in 2019 and 2030 are calculated for the pollutant ug_PM25_RH50 according to scenario s4.\n",
      "Starting coordo_ineris function\n",
      "Loading data from data/1-processed-data/SHERPA/conc-2019/Reanalysed_FRA_2019_PM25_avgannual_Ineris_v.Jan2024.nc\n",
      "Finished processing coordo_ineris function\n"
     ]
    },
    {
     "name": "stderr",
     "output_type": "stream",
     "text": [
      "C:\\Users\\aysharma\\anaconda3\\Lib\\site-packages\\numpy\\core\\fromnumeric.py:59: FutureWarning: 'GeoDataFrame.swapaxes' is deprecated and will be removed in a future version. Please use 'GeoDataFrame.transpose' instead.\n",
      "  return bound(*args, **kwds)\n",
      "C:\\Users\\aysharma\\anaconda3\\Lib\\site-packages\\numpy\\core\\fromnumeric.py:59: FutureWarning: 'GeoDataFrame.swapaxes' is deprecated and will be removed in a future version. Please use 'GeoDataFrame.transpose' instead.\n",
      "  return bound(*args, **kwds)\n",
      "C:\\Users\\aysharma\\anaconda3\\Lib\\site-packages\\numpy\\core\\fromnumeric.py:59: FutureWarning: 'GeoDataFrame.swapaxes' is deprecated and will be removed in a future version. Please use 'GeoDataFrame.transpose' instead.\n",
      "  return bound(*args, **kwds)\n",
      "C:\\Users\\aysharma\\anaconda3\\Lib\\site-packages\\numpy\\core\\fromnumeric.py:59: FutureWarning: 'GeoDataFrame.swapaxes' is deprecated and will be removed in a future version. Please use 'GeoDataFrame.transpose' instead.\n",
      "  return bound(*args, **kwds)\n",
      "C:\\Users\\aysharma\\anaconda3\\Lib\\site-packages\\numpy\\core\\fromnumeric.py:59: FutureWarning: 'GeoDataFrame.swapaxes' is deprecated and will be removed in a future version. Please use 'GeoDataFrame.transpose' instead.\n",
      "  return bound(*args, **kwds)\n",
      "C:\\Users\\aysharma\\Eqis_codes\\mortality_analysis_module.py:133: FutureWarning: Setting an item of incompatible dtype is deprecated and will raise an error in a future version of pandas. Value '15.52758288756086' has dtype incompatible with int64, please explicitly cast to a compatible dtype first.\n",
      "  donnees.loc[donnees['age'] == age, 'mort'] = mort\n",
      "C:\\Users\\aysharma\\Eqis_codes\\mortality_analysis_module.py:134: FutureWarning: Setting an item of incompatible dtype is deprecated and will raise an error in a future version of pandas. Value '0.00046335226785193317' has dtype incompatible with int64, please explicitly cast to a compatible dtype first.\n",
      "  donnees.loc[donnees['age'] == age, 'taux_initial'] = taux_initial\n",
      "C:\\Users\\aysharma\\Eqis_codes\\mortality_analysis_module.py:135: FutureWarning: Setting an item of incompatible dtype is deprecated and will raise an error in a future version of pandas. Value '0.0004422027222448961' has dtype incompatible with int64, please explicitly cast to a compatible dtype first.\n",
      "  donnees.loc[donnees['age'] == age, 'taux_corrige'] = taux_corrige\n",
      "C:\\Users\\aysharma\\Eqis_codes\\mortality_analysis_module.py:136: FutureWarning: Setting an item of incompatible dtype is deprecated and will raise an error in a future version of pandas. Value '838.4894759282864' has dtype incompatible with int64, please explicitly cast to a compatible dtype first.\n",
      "  donnees.loc[donnees['age'] == age, 'annees_gagnees'] = annees_gagnees\n"
     ]
    },
    {
     "name": "stdout",
     "output_type": "stream",
     "text": [
      "Concentrations in 2019 and 2030 are calculated for the pollutant ug_NO2 according to scenario s4.\n",
      "Starting coordo_ineris function\n",
      "Loading data from data/1-processed-data/SHERPA/conc-2019/Reanalysed_FRA_2019_NO2_avgannual_Ineris_v.Jan2024.nc\n",
      "Finished processing coordo_ineris function\n"
     ]
    },
    {
     "name": "stderr",
     "output_type": "stream",
     "text": [
      "C:\\Users\\aysharma\\anaconda3\\Lib\\site-packages\\numpy\\core\\fromnumeric.py:59: FutureWarning: 'GeoDataFrame.swapaxes' is deprecated and will be removed in a future version. Please use 'GeoDataFrame.transpose' instead.\n",
      "  return bound(*args, **kwds)\n",
      "C:\\Users\\aysharma\\anaconda3\\Lib\\site-packages\\numpy\\core\\fromnumeric.py:59: FutureWarning: 'GeoDataFrame.swapaxes' is deprecated and will be removed in a future version. Please use 'GeoDataFrame.transpose' instead.\n",
      "  return bound(*args, **kwds)\n",
      "C:\\Users\\aysharma\\anaconda3\\Lib\\site-packages\\numpy\\core\\fromnumeric.py:59: FutureWarning: 'GeoDataFrame.swapaxes' is deprecated and will be removed in a future version. Please use 'GeoDataFrame.transpose' instead.\n",
      "  return bound(*args, **kwds)\n",
      "C:\\Users\\aysharma\\anaconda3\\Lib\\site-packages\\numpy\\core\\fromnumeric.py:59: FutureWarning: 'GeoDataFrame.swapaxes' is deprecated and will be removed in a future version. Please use 'GeoDataFrame.transpose' instead.\n",
      "  return bound(*args, **kwds)\n",
      "C:\\Users\\aysharma\\anaconda3\\Lib\\site-packages\\numpy\\core\\fromnumeric.py:59: FutureWarning: 'GeoDataFrame.swapaxes' is deprecated and will be removed in a future version. Please use 'GeoDataFrame.transpose' instead.\n",
      "  return bound(*args, **kwds)\n",
      "C:\\Users\\aysharma\\Eqis_codes\\mortality_analysis_module.py:133: FutureWarning: Setting an item of incompatible dtype is deprecated and will raise an error in a future version of pandas. Value '1.097223094281611' has dtype incompatible with int64, please explicitly cast to a compatible dtype first.\n",
      "  donnees.loc[donnees['age'] == age, 'mort'] = mort\n",
      "C:\\Users\\aysharma\\Eqis_codes\\mortality_analysis_module.py:134: FutureWarning: Setting an item of incompatible dtype is deprecated and will raise an error in a future version of pandas. Value '0.00046335226785193317' has dtype incompatible with int64, please explicitly cast to a compatible dtype first.\n",
      "  donnees.loc[donnees['age'] == age, 'taux_initial'] = taux_initial\n",
      "C:\\Users\\aysharma\\Eqis_codes\\mortality_analysis_module.py:135: FutureWarning: Setting an item of incompatible dtype is deprecated and will raise an error in a future version of pandas. Value '0.0004618577809094617' has dtype incompatible with int64, please explicitly cast to a compatible dtype first.\n",
      "  donnees.loc[donnees['age'] == age, 'taux_corrige'] = taux_corrige\n",
      "C:\\Users\\aysharma\\Eqis_codes\\mortality_analysis_module.py:136: FutureWarning: Setting an item of incompatible dtype is deprecated and will raise an error in a future version of pandas. Value '59.250047091206994' has dtype incompatible with int64, please explicitly cast to a compatible dtype first.\n",
      "  donnees.loc[donnees['age'] == age, 'annees_gagnees'] = annees_gagnees\n"
     ]
    },
    {
     "name": "stdout",
     "output_type": "stream",
     "text": [
      "Concentrations in 2019 and 2030 are calculated for the pollutant ug_NO2 according to scenario s4.\n",
      "Starting coordo_ineris function\n",
      "Loading data from data/1-processed-data/SHERPA/conc-2019/Reanalysed_FRA_2019_NO2_avgannual_Ineris_v.Jan2024.nc\n",
      "Finished processing coordo_ineris function\n"
     ]
    },
    {
     "name": "stderr",
     "output_type": "stream",
     "text": [
      "C:\\Users\\aysharma\\anaconda3\\Lib\\site-packages\\numpy\\core\\fromnumeric.py:59: FutureWarning: 'GeoDataFrame.swapaxes' is deprecated and will be removed in a future version. Please use 'GeoDataFrame.transpose' instead.\n",
      "  return bound(*args, **kwds)\n",
      "C:\\Users\\aysharma\\anaconda3\\Lib\\site-packages\\numpy\\core\\fromnumeric.py:59: FutureWarning: 'GeoDataFrame.swapaxes' is deprecated and will be removed in a future version. Please use 'GeoDataFrame.transpose' instead.\n",
      "  return bound(*args, **kwds)\n",
      "C:\\Users\\aysharma\\anaconda3\\Lib\\site-packages\\numpy\\core\\fromnumeric.py:59: FutureWarning: 'GeoDataFrame.swapaxes' is deprecated and will be removed in a future version. Please use 'GeoDataFrame.transpose' instead.\n",
      "  return bound(*args, **kwds)\n",
      "C:\\Users\\aysharma\\anaconda3\\Lib\\site-packages\\numpy\\core\\fromnumeric.py:59: FutureWarning: 'GeoDataFrame.swapaxes' is deprecated and will be removed in a future version. Please use 'GeoDataFrame.transpose' instead.\n",
      "  return bound(*args, **kwds)\n",
      "C:\\Users\\aysharma\\anaconda3\\Lib\\site-packages\\numpy\\core\\fromnumeric.py:59: FutureWarning: 'GeoDataFrame.swapaxes' is deprecated and will be removed in a future version. Please use 'GeoDataFrame.transpose' instead.\n",
      "  return bound(*args, **kwds)\n",
      "C:\\Users\\aysharma\\Eqis_codes\\mortality_analysis_module.py:133: FutureWarning: Setting an item of incompatible dtype is deprecated and will raise an error in a future version of pandas. Value '4.9609564230155865' has dtype incompatible with int64, please explicitly cast to a compatible dtype first.\n",
      "  donnees.loc[donnees['age'] == age, 'mort'] = mort\n",
      "C:\\Users\\aysharma\\Eqis_codes\\mortality_analysis_module.py:134: FutureWarning: Setting an item of incompatible dtype is deprecated and will raise an error in a future version of pandas. Value '0.00046335226785193317' has dtype incompatible with int64, please explicitly cast to a compatible dtype first.\n",
      "  donnees.loc[donnees['age'] == age, 'taux_initial'] = taux_initial\n",
      "C:\\Users\\aysharma\\Eqis_codes\\mortality_analysis_module.py:135: FutureWarning: Setting an item of incompatible dtype is deprecated and will raise an error in a future version of pandas. Value '0.0004565951328307996' has dtype incompatible with int64, please explicitly cast to a compatible dtype first.\n",
      "  donnees.loc[donnees['age'] == age, 'taux_corrige'] = taux_corrige\n",
      "C:\\Users\\aysharma\\Eqis_codes\\mortality_analysis_module.py:136: FutureWarning: Setting an item of incompatible dtype is deprecated and will raise an error in a future version of pandas. Value '267.8916468428417' has dtype incompatible with int64, please explicitly cast to a compatible dtype first.\n",
      "  donnees.loc[donnees['age'] == age, 'annees_gagnees'] = annees_gagnees\n"
     ]
    },
    {
     "name": "stdout",
     "output_type": "stream",
     "text": [
      "Concentrations in 2019 and 2050 are calculated for the pollutant ug_PM25_RH50 according to scenario s4.\n",
      "Starting coordo_ineris function\n",
      "Loading data from data/1-processed-data/SHERPA/conc-2019/Reanalysed_FRA_2019_PM25_avgannual_Ineris_v.Jan2024.nc\n",
      "Finished processing coordo_ineris function\n"
     ]
    },
    {
     "name": "stderr",
     "output_type": "stream",
     "text": [
      "C:\\Users\\aysharma\\anaconda3\\Lib\\site-packages\\numpy\\core\\fromnumeric.py:59: FutureWarning: 'GeoDataFrame.swapaxes' is deprecated and will be removed in a future version. Please use 'GeoDataFrame.transpose' instead.\n",
      "  return bound(*args, **kwds)\n",
      "C:\\Users\\aysharma\\anaconda3\\Lib\\site-packages\\numpy\\core\\fromnumeric.py:59: FutureWarning: 'GeoDataFrame.swapaxes' is deprecated and will be removed in a future version. Please use 'GeoDataFrame.transpose' instead.\n",
      "  return bound(*args, **kwds)\n",
      "C:\\Users\\aysharma\\anaconda3\\Lib\\site-packages\\numpy\\core\\fromnumeric.py:59: FutureWarning: 'GeoDataFrame.swapaxes' is deprecated and will be removed in a future version. Please use 'GeoDataFrame.transpose' instead.\n",
      "  return bound(*args, **kwds)\n",
      "C:\\Users\\aysharma\\anaconda3\\Lib\\site-packages\\numpy\\core\\fromnumeric.py:59: FutureWarning: 'GeoDataFrame.swapaxes' is deprecated and will be removed in a future version. Please use 'GeoDataFrame.transpose' instead.\n",
      "  return bound(*args, **kwds)\n",
      "C:\\Users\\aysharma\\anaconda3\\Lib\\site-packages\\numpy\\core\\fromnumeric.py:59: FutureWarning: 'GeoDataFrame.swapaxes' is deprecated and will be removed in a future version. Please use 'GeoDataFrame.transpose' instead.\n",
      "  return bound(*args, **kwds)\n",
      "C:\\Users\\aysharma\\Eqis_codes\\mortality_analysis_module.py:133: FutureWarning: Setting an item of incompatible dtype is deprecated and will raise an error in a future version of pandas. Value '3.293297208004625' has dtype incompatible with int64, please explicitly cast to a compatible dtype first.\n",
      "  donnees.loc[donnees['age'] == age, 'mort'] = mort\n",
      "C:\\Users\\aysharma\\Eqis_codes\\mortality_analysis_module.py:134: FutureWarning: Setting an item of incompatible dtype is deprecated and will raise an error in a future version of pandas. Value '0.0002975735690330468' has dtype incompatible with int64, please explicitly cast to a compatible dtype first.\n",
      "  donnees.loc[donnees['age'] == age, 'taux_initial'] = taux_initial\n",
      "C:\\Users\\aysharma\\Eqis_codes\\mortality_analysis_module.py:135: FutureWarning: Setting an item of incompatible dtype is deprecated and will raise an error in a future version of pandas. Value '0.0002930013395718335' has dtype incompatible with int64, please explicitly cast to a compatible dtype first.\n",
      "  donnees.loc[donnees['age'] == age, 'taux_corrige'] = taux_corrige\n",
      "C:\\Users\\aysharma\\Eqis_codes\\mortality_analysis_module.py:136: FutureWarning: Setting an item of incompatible dtype is deprecated and will raise an error in a future version of pandas. Value '184.424643648259' has dtype incompatible with int64, please explicitly cast to a compatible dtype first.\n",
      "  donnees.loc[donnees['age'] == age, 'annees_gagnees'] = annees_gagnees\n"
     ]
    },
    {
     "name": "stdout",
     "output_type": "stream",
     "text": [
      "Concentrations in 2019 and 2050 are calculated for the pollutant ug_PM25_RH50 according to scenario s4.\n",
      "Starting coordo_ineris function\n",
      "Loading data from data/1-processed-data/SHERPA/conc-2019/Reanalysed_FRA_2019_PM25_avgannual_Ineris_v.Jan2024.nc\n",
      "Finished processing coordo_ineris function\n"
     ]
    },
    {
     "name": "stderr",
     "output_type": "stream",
     "text": [
      "C:\\Users\\aysharma\\anaconda3\\Lib\\site-packages\\numpy\\core\\fromnumeric.py:59: FutureWarning: 'GeoDataFrame.swapaxes' is deprecated and will be removed in a future version. Please use 'GeoDataFrame.transpose' instead.\n",
      "  return bound(*args, **kwds)\n",
      "C:\\Users\\aysharma\\anaconda3\\Lib\\site-packages\\numpy\\core\\fromnumeric.py:59: FutureWarning: 'GeoDataFrame.swapaxes' is deprecated and will be removed in a future version. Please use 'GeoDataFrame.transpose' instead.\n",
      "  return bound(*args, **kwds)\n",
      "C:\\Users\\aysharma\\anaconda3\\Lib\\site-packages\\numpy\\core\\fromnumeric.py:59: FutureWarning: 'GeoDataFrame.swapaxes' is deprecated and will be removed in a future version. Please use 'GeoDataFrame.transpose' instead.\n",
      "  return bound(*args, **kwds)\n",
      "C:\\Users\\aysharma\\anaconda3\\Lib\\site-packages\\numpy\\core\\fromnumeric.py:59: FutureWarning: 'GeoDataFrame.swapaxes' is deprecated and will be removed in a future version. Please use 'GeoDataFrame.transpose' instead.\n",
      "  return bound(*args, **kwds)\n",
      "C:\\Users\\aysharma\\anaconda3\\Lib\\site-packages\\numpy\\core\\fromnumeric.py:59: FutureWarning: 'GeoDataFrame.swapaxes' is deprecated and will be removed in a future version. Please use 'GeoDataFrame.transpose' instead.\n",
      "  return bound(*args, **kwds)\n",
      "C:\\Users\\aysharma\\Eqis_codes\\mortality_analysis_module.py:133: FutureWarning: Setting an item of incompatible dtype is deprecated and will raise an error in a future version of pandas. Value '14.630875723318347' has dtype incompatible with int64, please explicitly cast to a compatible dtype first.\n",
      "  donnees.loc[donnees['age'] == age, 'mort'] = mort\n",
      "C:\\Users\\aysharma\\Eqis_codes\\mortality_analysis_module.py:134: FutureWarning: Setting an item of incompatible dtype is deprecated and will raise an error in a future version of pandas. Value '0.0002975735690330468' has dtype incompatible with int64, please explicitly cast to a compatible dtype first.\n",
      "  donnees.loc[donnees['age'] == age, 'taux_initial'] = taux_initial\n",
      "C:\\Users\\aysharma\\Eqis_codes\\mortality_analysis_module.py:135: FutureWarning: Setting an item of incompatible dtype is deprecated and will raise an error in a future version of pandas. Value '0.0002772608803200722' has dtype incompatible with int64, please explicitly cast to a compatible dtype first.\n",
      "  donnees.loc[donnees['age'] == age, 'taux_corrige'] = taux_corrige\n",
      "C:\\Users\\aysharma\\Eqis_codes\\mortality_analysis_module.py:136: FutureWarning: Setting an item of incompatible dtype is deprecated and will raise an error in a future version of pandas. Value '819.3290405058274' has dtype incompatible with int64, please explicitly cast to a compatible dtype first.\n",
      "  donnees.loc[donnees['age'] == age, 'annees_gagnees'] = annees_gagnees\n"
     ]
    },
    {
     "name": "stdout",
     "output_type": "stream",
     "text": [
      "Concentrations in 2019 and 2050 are calculated for the pollutant ug_NO2 according to scenario s4.\n",
      "Starting coordo_ineris function\n",
      "Loading data from data/1-processed-data/SHERPA/conc-2019/Reanalysed_FRA_2019_NO2_avgannual_Ineris_v.Jan2024.nc\n",
      "Finished processing coordo_ineris function\n"
     ]
    },
    {
     "name": "stderr",
     "output_type": "stream",
     "text": [
      "C:\\Users\\aysharma\\anaconda3\\Lib\\site-packages\\numpy\\core\\fromnumeric.py:59: FutureWarning: 'GeoDataFrame.swapaxes' is deprecated and will be removed in a future version. Please use 'GeoDataFrame.transpose' instead.\n",
      "  return bound(*args, **kwds)\n",
      "C:\\Users\\aysharma\\anaconda3\\Lib\\site-packages\\numpy\\core\\fromnumeric.py:59: FutureWarning: 'GeoDataFrame.swapaxes' is deprecated and will be removed in a future version. Please use 'GeoDataFrame.transpose' instead.\n",
      "  return bound(*args, **kwds)\n",
      "C:\\Users\\aysharma\\anaconda3\\Lib\\site-packages\\numpy\\core\\fromnumeric.py:59: FutureWarning: 'GeoDataFrame.swapaxes' is deprecated and will be removed in a future version. Please use 'GeoDataFrame.transpose' instead.\n",
      "  return bound(*args, **kwds)\n",
      "C:\\Users\\aysharma\\anaconda3\\Lib\\site-packages\\numpy\\core\\fromnumeric.py:59: FutureWarning: 'GeoDataFrame.swapaxes' is deprecated and will be removed in a future version. Please use 'GeoDataFrame.transpose' instead.\n",
      "  return bound(*args, **kwds)\n",
      "C:\\Users\\aysharma\\anaconda3\\Lib\\site-packages\\numpy\\core\\fromnumeric.py:59: FutureWarning: 'GeoDataFrame.swapaxes' is deprecated and will be removed in a future version. Please use 'GeoDataFrame.transpose' instead.\n",
      "  return bound(*args, **kwds)\n",
      "C:\\Users\\aysharma\\Eqis_codes\\mortality_analysis_module.py:133: FutureWarning: Setting an item of incompatible dtype is deprecated and will raise an error in a future version of pandas. Value '1.2004943387125397' has dtype incompatible with int64, please explicitly cast to a compatible dtype first.\n",
      "  donnees.loc[donnees['age'] == age, 'mort'] = mort\n",
      "C:\\Users\\aysharma\\Eqis_codes\\mortality_analysis_module.py:134: FutureWarning: Setting an item of incompatible dtype is deprecated and will raise an error in a future version of pandas. Value '0.0002975735690330468' has dtype incompatible with int64, please explicitly cast to a compatible dtype first.\n",
      "  donnees.loc[donnees['age'] == age, 'taux_initial'] = taux_initial\n",
      "C:\\Users\\aysharma\\Eqis_codes\\mortality_analysis_module.py:135: FutureWarning: Setting an item of incompatible dtype is deprecated and will raise an error in a future version of pandas. Value '0.0002959068699054552' has dtype incompatible with int64, please explicitly cast to a compatible dtype first.\n",
      "  donnees.loc[donnees['age'] == age, 'taux_corrige'] = taux_corrige\n",
      "C:\\Users\\aysharma\\Eqis_codes\\mortality_analysis_module.py:136: FutureWarning: Setting an item of incompatible dtype is deprecated and will raise an error in a future version of pandas. Value '67.22768296790223' has dtype incompatible with int64, please explicitly cast to a compatible dtype first.\n",
      "  donnees.loc[donnees['age'] == age, 'annees_gagnees'] = annees_gagnees\n"
     ]
    },
    {
     "name": "stdout",
     "output_type": "stream",
     "text": [
      "Concentrations in 2019 and 2050 are calculated for the pollutant ug_NO2 according to scenario s4.\n",
      "Starting coordo_ineris function\n",
      "Loading data from data/1-processed-data/SHERPA/conc-2019/Reanalysed_FRA_2019_NO2_avgannual_Ineris_v.Jan2024.nc\n",
      "Finished processing coordo_ineris function\n"
     ]
    },
    {
     "name": "stderr",
     "output_type": "stream",
     "text": [
      "C:\\Users\\aysharma\\anaconda3\\Lib\\site-packages\\numpy\\core\\fromnumeric.py:59: FutureWarning: 'GeoDataFrame.swapaxes' is deprecated and will be removed in a future version. Please use 'GeoDataFrame.transpose' instead.\n",
      "  return bound(*args, **kwds)\n",
      "C:\\Users\\aysharma\\anaconda3\\Lib\\site-packages\\numpy\\core\\fromnumeric.py:59: FutureWarning: 'GeoDataFrame.swapaxes' is deprecated and will be removed in a future version. Please use 'GeoDataFrame.transpose' instead.\n",
      "  return bound(*args, **kwds)\n",
      "C:\\Users\\aysharma\\anaconda3\\Lib\\site-packages\\numpy\\core\\fromnumeric.py:59: FutureWarning: 'GeoDataFrame.swapaxes' is deprecated and will be removed in a future version. Please use 'GeoDataFrame.transpose' instead.\n",
      "  return bound(*args, **kwds)\n",
      "C:\\Users\\aysharma\\anaconda3\\Lib\\site-packages\\numpy\\core\\fromnumeric.py:59: FutureWarning: 'GeoDataFrame.swapaxes' is deprecated and will be removed in a future version. Please use 'GeoDataFrame.transpose' instead.\n",
      "  return bound(*args, **kwds)\n",
      "C:\\Users\\aysharma\\anaconda3\\Lib\\site-packages\\numpy\\core\\fromnumeric.py:59: FutureWarning: 'GeoDataFrame.swapaxes' is deprecated and will be removed in a future version. Please use 'GeoDataFrame.transpose' instead.\n",
      "  return bound(*args, **kwds)\n",
      "C:\\Users\\aysharma\\Eqis_codes\\mortality_analysis_module.py:133: FutureWarning: Setting an item of incompatible dtype is deprecated and will raise an error in a future version of pandas. Value '5.396572202903444' has dtype incompatible with int64, please explicitly cast to a compatible dtype first.\n",
      "  donnees.loc[donnees['age'] == age, 'mort'] = mort\n",
      "C:\\Users\\aysharma\\Eqis_codes\\mortality_analysis_module.py:134: FutureWarning: Setting an item of incompatible dtype is deprecated and will raise an error in a future version of pandas. Value '0.0002975735690330468' has dtype incompatible with int64, please explicitly cast to a compatible dtype first.\n",
      "  donnees.loc[donnees['age'] == age, 'taux_initial'] = taux_initial\n",
      "C:\\Users\\aysharma\\Eqis_codes\\mortality_analysis_module.py:135: FutureWarning: Setting an item of incompatible dtype is deprecated and will raise an error in a future version of pandas. Value '0.0002900812703253241' has dtype incompatible with int64, please explicitly cast to a compatible dtype first.\n",
      "  donnees.loc[donnees['age'] == age, 'taux_corrige'] = taux_corrige\n",
      "C:\\Users\\aysharma\\Eqis_codes\\mortality_analysis_module.py:136: FutureWarning: Setting an item of incompatible dtype is deprecated and will raise an error in a future version of pandas. Value '302.2080433625929' has dtype incompatible with int64, please explicitly cast to a compatible dtype first.\n",
      "  donnees.loc[donnees['age'] == age, 'annees_gagnees'] = annees_gagnees\n"
     ]
    }
   ],
   "execution_count": 4
  }
 ],
 "metadata": {
  "kernelspec": {
   "display_name": "Python [conda env:base] *",
   "language": "python",
   "name": "conda-base-py"
  },
  "language_info": {
   "codemirror_mode": {
    "name": "ipython",
    "version": 2
   },
   "file_extension": ".py",
   "mimetype": "text/x-python",
   "name": "python",
   "nbconvert_exporter": "python",
   "pygments_lexer": "ipython2",
   "version": "2.7.6"
  }
 },
 "nbformat": 4,
 "nbformat_minor": 5
}
