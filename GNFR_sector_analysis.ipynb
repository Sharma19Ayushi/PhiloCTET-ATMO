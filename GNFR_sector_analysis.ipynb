{
 "cells": [
  {
   "metadata": {},
   "cell_type": "code",
   "outputs": [],
   "execution_count": null,
   "source": [
    "# Importing necessary libraries\n",
    "import os\n",
    "import geopandas as gpd\n",
    "import pandas as pd\n",
    "\n",
    "# Define scenarios, pollutants, years, and GNFRs\n",
    "scenarios = [\"s1\", \"s2\", \"s3\", \"s4\"]\n",
    "pollutants = [\"ug_PM25_RH50\", \"ug_NO2\"]\n",
    "years = [\"2030\", \"2050\"]\n",
    "gnfrs = [\"trans\", \"res\", \"agri\"]\n",
    "\n",
    "# Read and merge shapefiles\n",
    "path_fichier_shp_1, path_fichier_shp_2, path_fichier_shp_3 = \"path1\", \"path2\", \"path3\"\n",
    "title_shp_1, title_shp_2, title_shp_3 = \"title1\", \"title2\", \"title3\"\n",
    "\n",
    "donnees_shp_1 = gpd.read_file(os.path.join(path_fichier_shp_1, f\"{title_shp_1}.shp\"))\n",
    "donnees_shp_2 = gpd.read_file(os.path.join(path_fichier_shp_2, f\"{title_shp_2}.shp\"))\n",
    "donnees_shp_3 = gpd.read_file(os.path.join(path_fichier_shp_3, f\"{title_shp_3}.shp\"))\n",
    "\n",
    "donnees_merged = pd.concat([donnees_shp_1, donnees_shp_2, donnees_shp_3], ignore_index=True)\n",
    "\n",
    "# Loop through scenarios, years, pollutants, and GNFR categories\n",
    "for sc in scenarios:\n",
    "    for year in years:\n",
    "        for pol in pollutants:\n",
    "            for g in gnfrs:\n",
    "\n",
    "                path_fichier_expo = f\"data/2-output-data/{sc}/{pol}/{year}/expo-shp\"\n",
    "                title_expo = f\"expo-shp-{g}\"\n",
    "\n",
    "                # Replace these functions with appropriate implementations\n",
    "                conc_points = coordo_sherpa_new(sc, pol, year, g)\n",
    "                donnees_exportees_transformed = donnees_exportees.to_crs(conc_points.crs)\n",
    "                conc_ineris = coordo_ineris(pol)\n",
    "                conc_corrigee = correction(conc_points, conc_ineris)\n",
    "                donnees_expo = expo(donnees_exportees_transformed, conc_corrigee, grille_combinee)\n",
    "\n",
    "                # Optional exports\n",
    "                # export_data_shp(donnees_expo, path_fichier_expo, title_expo)\n",
    "                # donnees_mixtes = mortalite_evitee_iris(donnees_expo, pol, year)\n",
    "                # export_data_shp(donnees_mixtes, path_fichier_mixte, title_mixte)\n",
    "\n",
    "                path = f\"data/2-output-data/{sc}/{pol}/{year}\"\n",
    "                os.makedirs(path, exist_ok=True)\n",
    "\n",
    "                # Generate mortality and life expectancy files\n",
    "                tab = mortalite_age(donnees_merged, donnees_expo, year, pol)\n",
    "                csv_path = os.path.join(path, f\"mortalite_evitee_{g}.csv\")\n",
    "                tab.to_csv(csv_path, index=False)\n",
    "\n",
    "                res = life_exp(tab, year)\n",
    "                csv_path2 = os.path.join(path, f\"esp_vie_{g}.csv\")\n",
    "                res.to_csv(csv_path2, index=False)\n"
   ],
   "id": "6809ac8a0eff9b8f"
  }
 ],
 "metadata": {
  "kernelspec": {
   "display_name": "Python 3",
   "language": "python",
   "name": "python3"
  },
  "language_info": {
   "codemirror_mode": {
    "name": "ipython",
    "version": 2
   },
   "file_extension": ".py",
   "mimetype": "text/x-python",
   "name": "python",
   "nbconvert_exporter": "python",
   "pygments_lexer": "ipython2",
   "version": "2.7.6"
  }
 },
 "nbformat": 4,
 "nbformat_minor": 5
}
